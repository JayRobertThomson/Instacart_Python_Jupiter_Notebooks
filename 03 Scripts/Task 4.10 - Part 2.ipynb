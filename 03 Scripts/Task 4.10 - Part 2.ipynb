{
 "cells": [
  {
   "cell_type": "markdown",
   "id": "f6faba43",
   "metadata": {},
   "source": [
    "# Coding Etiquette & Excel Reporting\n",
    "## Content: "
   ]
  },
  {
   "cell_type": "code",
   "execution_count": 1,
   "id": "72c74847",
   "metadata": {},
   "outputs": [],
   "source": [
    "# Import libraries\n",
    "\n",
    "import pandas as pd\n",
    "import numpy as np\n",
    "import os\n",
    "import matplotlib.pyplot as plt\n",
    "import seaborn as sns\n",
    "import scipy"
   ]
  },
  {
   "cell_type": "code",
   "execution_count": 2,
   "id": "6fe17dfd",
   "metadata": {},
   "outputs": [],
   "source": [
    "# Create path\n",
    "\n",
    "path = r'C:\\Users\\thoms\\Desktop\\Data Analytics\\Achievement 4\\Instacart Basket Analysis'"
   ]
  },
  {
   "cell_type": "code",
   "execution_count": 3,
   "id": "89313d04",
   "metadata": {},
   "outputs": [],
   "source": [
    "# Import orginal df to check of orders, products, customers and prior \n",
    "\n",
    "orders_original = pd.read_csv(os.path.join(path, '02 Data', 'Original Data', 'orders.csv'))"
   ]
  },
  {
   "cell_type": "code",
   "execution_count": 4,
   "id": "6a4f83bc",
   "metadata": {},
   "outputs": [
    {
     "data": {
      "text/plain": [
       "(3421083, 7)"
      ]
     },
     "execution_count": 4,
     "metadata": {},
     "output_type": "execute_result"
    }
   ],
   "source": [
    "orders_original.shape"
   ]
  },
  {
   "cell_type": "code",
   "execution_count": 5,
   "id": "563c148b",
   "metadata": {},
   "outputs": [],
   "source": [
    "products_original = pd.read_csv(os.path.join(path, '02 Data', 'Original Data', 'products.csv'))"
   ]
  },
  {
   "cell_type": "code",
   "execution_count": 6,
   "id": "b4fea497",
   "metadata": {},
   "outputs": [
    {
     "data": {
      "text/plain": [
       "(49693, 5)"
      ]
     },
     "execution_count": 6,
     "metadata": {},
     "output_type": "execute_result"
    }
   ],
   "source": [
    "products_original.shape"
   ]
  },
  {
   "cell_type": "code",
   "execution_count": 7,
   "id": "df8cc726",
   "metadata": {},
   "outputs": [],
   "source": [
    "customers_original = pd.read_csv(os.path.join(path, '02 Data', 'Original Data', 'customers.csv'))"
   ]
  },
  {
   "cell_type": "code",
   "execution_count": 8,
   "id": "530b93d7",
   "metadata": {},
   "outputs": [
    {
     "data": {
      "text/plain": [
       "(206209, 10)"
      ]
     },
     "execution_count": 8,
     "metadata": {},
     "output_type": "execute_result"
    }
   ],
   "source": [
    "customers_original.shape"
   ]
  },
  {
   "cell_type": "code",
   "execution_count": 9,
   "id": "d2eb6e24",
   "metadata": {},
   "outputs": [],
   "source": [
    "prior_original = pd.read_csv(os.path.join(path, '02 Data', 'Original Data', 'prior.csv'))"
   ]
  },
  {
   "cell_type": "code",
   "execution_count": 10,
   "id": "d382e72f",
   "metadata": {},
   "outputs": [
    {
     "data": {
      "text/plain": [
       "(32434489, 4)"
      ]
     },
     "execution_count": 10,
     "metadata": {},
     "output_type": "execute_result"
    }
   ],
   "source": [
    "prior_original.shape"
   ]
  },
  {
   "cell_type": "code",
   "execution_count": 11,
   "id": "aa03b558",
   "metadata": {},
   "outputs": [],
   "source": [
    "# Import df for checked orders, products, customers and prior \n",
    "\n",
    "orders_wrangled = pd.read_csv(os.path.join(path, '02 Data', 'Prepared Data', 'orders_wrangled.csv'))"
   ]
  },
  {
   "cell_type": "code",
   "execution_count": 12,
   "id": "7dd1ab7a",
   "metadata": {},
   "outputs": [
    {
     "data": {
      "text/plain": [
       "(3421083, 8)"
      ]
     },
     "execution_count": 12,
     "metadata": {},
     "output_type": "execute_result"
    }
   ],
   "source": [
    "orders_wrangled.shape"
   ]
  },
  {
   "cell_type": "code",
   "execution_count": 13,
   "id": "86dc9726",
   "metadata": {},
   "outputs": [],
   "source": [
    "prods_checked = pd.read_csv(os.path.join(path, '02 Data', 'Prepared Data', 'prods_checked.csv'))"
   ]
  },
  {
   "cell_type": "code",
   "execution_count": 14,
   "id": "7dcba5d5",
   "metadata": {},
   "outputs": [
    {
     "data": {
      "text/plain": [
       "(49677, 6)"
      ]
     },
     "execution_count": 14,
     "metadata": {},
     "output_type": "execute_result"
    }
   ],
   "source": [
    "prods_checked.shape"
   ]
  },
  {
   "cell_type": "code",
   "execution_count": 15,
   "id": "f17025ee",
   "metadata": {},
   "outputs": [],
   "source": [
    "# Import and check final df orders products combined\n",
    "\n",
    "orders_products_combined_1 = pd.read_pickle(os.path.join(path, '02 Data', 'Prepared Data', 'orders_products_combined_1.pkl'))"
   ]
  },
  {
   "cell_type": "code",
   "execution_count": 16,
   "id": "ae3b627a",
   "metadata": {},
   "outputs": [
    {
     "data": {
      "text/plain": [
       "(32641268, 15)"
      ]
     },
     "execution_count": 16,
     "metadata": {},
     "output_type": "execute_result"
    }
   ],
   "source": [
    "orders_products_combined_1.shape"
   ]
  },
  {
   "cell_type": "code",
   "execution_count": 17,
   "id": "68140614",
   "metadata": {},
   "outputs": [],
   "source": [
    "orders_products_merged = pd.read_pickle(os.path.join(path, '02 Data', 'Prepared Data', 'orders_products_merged.pkl'))"
   ]
  },
  {
   "cell_type": "code",
   "execution_count": 18,
   "id": "c1fb12f5",
   "metadata": {},
   "outputs": [
    {
     "data": {
      "text/plain": [
       "(32404859, 25)"
      ]
     },
     "execution_count": 18,
     "metadata": {},
     "output_type": "execute_result"
    }
   ],
   "source": [
    "orders_products_merged.shape"
   ]
  },
  {
   "cell_type": "code",
   "execution_count": 19,
   "id": "b0e20007",
   "metadata": {},
   "outputs": [
    {
     "data": {
      "text/plain": [
       "order_id                       0\n",
       "user_id                        0\n",
       "eval_set                       0\n",
       "order_number                   0\n",
       "order_dow                      0\n",
       "order_hour_of_day              0\n",
       "days_since_prior_order    206209\n",
       "dtype: int64"
      ]
     },
     "execution_count": 19,
     "metadata": {},
     "output_type": "execute_result"
    }
   ],
   "source": [
    "# Missing values in orginal df\n",
    "\n",
    "orders_original.isnull().sum()"
   ]
  },
  {
   "cell_type": "code",
   "execution_count": 20,
   "id": "1a738f3d",
   "metadata": {},
   "outputs": [
    {
     "data": {
      "text/plain": [
       "product_id        0\n",
       "product_name     16\n",
       "aisle_id          0\n",
       "department_id     0\n",
       "prices            0\n",
       "dtype: int64"
      ]
     },
     "execution_count": 20,
     "metadata": {},
     "output_type": "execute_result"
    }
   ],
   "source": [
    "products_original.isnull().sum()"
   ]
  },
  {
   "cell_type": "code",
   "execution_count": 21,
   "id": "e194b0f0",
   "metadata": {},
   "outputs": [
    {
     "data": {
      "text/plain": [
       "order_id             0\n",
       "product_id           0\n",
       "add_to_cart_order    0\n",
       "reordered            0\n",
       "dtype: int64"
      ]
     },
     "execution_count": 21,
     "metadata": {},
     "output_type": "execute_result"
    }
   ],
   "source": [
    "prior_original.isnull().sum()"
   ]
  },
  {
   "cell_type": "code",
   "execution_count": 22,
   "id": "f2607a64",
   "metadata": {},
   "outputs": [
    {
     "data": {
      "text/plain": [
       "user_id             0\n",
       "First Name      11259\n",
       "Surnam              0\n",
       "Gender              0\n",
       "STATE               0\n",
       "Age                 0\n",
       "date_joined         0\n",
       "n_dependants        0\n",
       "fam_status          0\n",
       "income              0\n",
       "dtype: int64"
      ]
     },
     "execution_count": 22,
     "metadata": {},
     "output_type": "execute_result"
    }
   ],
   "source": [
    "customers_original.isnull().sum()"
   ]
  },
  {
   "cell_type": "code",
   "execution_count": 23,
   "id": "5bc8d713",
   "metadata": {},
   "outputs": [
    {
     "data": {
      "text/plain": [
       "0"
      ]
     },
     "execution_count": 23,
     "metadata": {},
     "output_type": "execute_result"
    }
   ],
   "source": [
    "# Check for dulpilcates in original df\n",
    "\n",
    "customers_original.duplicated().sum()"
   ]
  },
  {
   "cell_type": "code",
   "execution_count": 24,
   "id": "1cfe1db2",
   "metadata": {},
   "outputs": [
    {
     "data": {
      "text/plain": [
       "0"
      ]
     },
     "execution_count": 24,
     "metadata": {},
     "output_type": "execute_result"
    }
   ],
   "source": [
    "prior_original.duplicated().sum()"
   ]
  },
  {
   "cell_type": "code",
   "execution_count": 25,
   "id": "90c5829f",
   "metadata": {},
   "outputs": [
    {
     "data": {
      "text/plain": [
       "5"
      ]
     },
     "execution_count": 25,
     "metadata": {},
     "output_type": "execute_result"
    }
   ],
   "source": [
    "products_original.duplicated().sum()"
   ]
  },
  {
   "cell_type": "code",
   "execution_count": 26,
   "id": "3d3da486",
   "metadata": {},
   "outputs": [
    {
     "data": {
      "text/plain": [
       "0"
      ]
     },
     "execution_count": 26,
     "metadata": {},
     "output_type": "execute_result"
    }
   ],
   "source": [
    "orders_original.duplicated().sum()"
   ]
  },
  {
   "cell_type": "code",
   "execution_count": 27,
   "id": "716af8c7",
   "metadata": {},
   "outputs": [],
   "source": [
    "orders_prods_custs_merge = pd.read_pickle(os.path.join(path, '02 Data', 'Prepared Data', 'orders_products_customers_merged.pkl'))"
   ]
  },
  {
   "cell_type": "code",
   "execution_count": 28,
   "id": "010f1de8",
   "metadata": {},
   "outputs": [],
   "source": [
    "department_original = pd.read_csv (r'C:\\Users\\thoms\\Desktop\\Data Analytics\\Achievement 4\\Instacart Basket Analysis\\02 Data\\Original Data\\departments.csv', index_col = False)"
   ]
  },
  {
   "cell_type": "markdown",
   "id": "94e784f1",
   "metadata": {},
   "source": [
    "## Key question 1: The sales team needs to know what the busiest days of the week and hours of the day are (i.e., the days and times with the most orders) in order to schedule ads at times when there are fewer orders"
   ]
  },
  {
   "cell_type": "code",
   "execution_count": 29,
   "id": "65e09f83",
   "metadata": {},
   "outputs": [
    {
     "data": {
      "text/plain": [
       "Text(0, 0.5, 'amount in millions')"
      ]
     },
     "execution_count": 29,
     "metadata": {},
     "output_type": "execute_result"
    },
    {
     "data": {
      "image/png": "[encoded data removed]",
      "text/plain": [
       "<Figure size 432x288 with 1 Axes>"
      ]
     },
     "metadata": {
      "needs_background": "light"
     },
     "output_type": "display_data"
    }
   ],
   "source": [
    "# Show the graph for the busiest days of the week \n",
    "\n",
    "bar = orders_prods_custs_merge['order_dow'].value_counts().sort_index().plot.bar()\n",
    "\n",
    "plt.title('order day of the week Bar Graph')\n",
    "plt.xlabel(\"order day of the week\")\n",
    "plt.ylabel(\"amount in millions\")"
   ]
  },
  {
   "cell_type": "code",
   "execution_count": 30,
   "id": "4ba80693",
   "metadata": {},
   "outputs": [],
   "source": [
    "# Show the graph for the busiest hours of the day\n",
    "\n",
    "bar.figure.savefig(os.path.join(path, '04 Analysis','Visualizations', 'bar_orders_dow.png'))"
   ]
  },
  {
   "cell_type": "code",
   "execution_count": 31,
   "id": "7fc225b0",
   "metadata": {},
   "outputs": [
    {
     "data": {
      "text/plain": [
       "Text(0, 0.5, 'amount in millions')"
      ]
     },
     "execution_count": 31,
     "metadata": {},
     "output_type": "execute_result"
    },
    {
     "data": {
      "image/png": "[encoded data removed]",
      "text/plain": [
       "<Figure size 432x288 with 1 Axes>"
      ]
     },
     "metadata": {
      "needs_background": "light"
     },
     "output_type": "display_data"
    }
   ],
   "source": [
    "hist_1 = orders_prods_custs_merge['order_hour_of_day'].plot.hist(bins = 24, color = \"blue\", ec=\"red\")\n",
    "\n",
    "\n",
    "plt.title('order hour of day Bar Graph')\n",
    "plt.xlabel(\"order hour of day\")\n",
    "plt.ylabel(\"amount in millions\")"
   ]
  },
  {
   "cell_type": "code",
   "execution_count": 32,
   "id": "4adb152e",
   "metadata": {},
   "outputs": [],
   "source": [
    "hist_1.figure.savefig(os.path.join(path, '04 Analysis','Visualizations', 'hist_2_order_hour_of_day.png'))"
   ]
  },
  {
   "cell_type": "markdown",
   "id": "91c27fae",
   "metadata": {},
   "source": [
    "## Key question 2: They also want to know whether there are particular times of the day when people spend the most money, as this might inform the type of products they advertise at these times."
   ]
  },
  {
   "cell_type": "code",
   "execution_count": 33,
   "id": "7bd4c71d",
   "metadata": {},
   "outputs": [],
   "source": [
    "# Average price spent per hour through out the day at Instacart\n",
    "\n",
    "avg_price_per_hour = orders_prods_custs_merge.groupby('order_hour_of_day').agg({'prices': ['mean']})"
   ]
  },
  {
   "cell_type": "code",
   "execution_count": 34,
   "id": "d027965f",
   "metadata": {},
   "outputs": [
    {
     "data": {
      "text/plain": [
       "Text(0, 0.5, 'prices amount')"
      ]
     },
     "execution_count": 34,
     "metadata": {},
     "output_type": "execute_result"
    },
    {
     "data": {
      "image/png": "[encoded data removed]",
      "text/plain": [
       "<Figure size 432x288 with 1 Axes>"
      ]
     },
     "metadata": {
      "needs_background": "light"
     },
     "output_type": "display_data"
    }
   ],
   "source": [
    "avg_price_per_hour_chart = sns.lineplot(data = avg_price_per_hour)\n",
    "\n",
    "plt.title('average amount spend per hour of the day Graph')\n",
    "plt.xlabel(\"order hour of day\")\n",
    "plt.ylabel(\"prices amount\")"
   ]
  },
  {
   "cell_type": "code",
   "execution_count": 35,
   "id": "8c9691a1",
   "metadata": {},
   "outputs": [],
   "source": [
    "avg_price_per_hour_chart.figure.savefig(os.path.join(path, '04 Analysis','Visualizations', 'avg_price_per_hour_chart.png'))"
   ]
  },
  {
   "cell_type": "markdown",
   "id": "ef57b1fa",
   "metadata": {},
   "source": [
    "## Key question 3: Instacart has a lot of products with different price tags. Marketing and sales want to use simpler price range groupings to help direct their efforts"
   ]
  },
  {
   "cell_type": "code",
   "execution_count": 36,
   "id": "0e88b041",
   "metadata": {},
   "outputs": [
    {
     "data": {
      "text/plain": [
       "count    3.240486e+07\n",
       "mean     1.198023e+01\n",
       "std      4.956554e+02\n",
       "min      1.000000e+00\n",
       "25%      4.200000e+00\n",
       "50%      7.400000e+00\n",
       "75%      1.130000e+01\n",
       "max      9.999900e+04\n",
       "Name: prices, dtype: float64"
      ]
     },
     "execution_count": 36,
     "metadata": {},
     "output_type": "execute_result"
    }
   ],
   "source": [
    "# Simple price range calculations\n",
    "\n",
    "orders_prods_custs_merge['prices'].describe()"
   ]
  },
  {
   "cell_type": "code",
   "execution_count": 37,
   "id": "97a1c274",
   "metadata": {},
   "outputs": [
    {
     "data": {
      "text/plain": [
       "12.3    624261\n",
       "10.3    510496\n",
       "4.0     447272\n",
       "6.3     438467\n",
       "1.3     425691\n",
       "         ...  \n",
       "20.2       123\n",
       "22.7        99\n",
       "21.5        85\n",
       "18.3        11\n",
       "21.0         8\n",
       "Name: prices, Length: 242, dtype: int64"
      ]
     },
     "execution_count": 37,
     "metadata": {},
     "output_type": "execute_result"
    }
   ],
   "source": [
    "orders_prods_custs_merge['prices'].value_counts(dropna = False)"
   ]
  },
  {
   "cell_type": "code",
   "execution_count": 38,
   "id": "f7692463",
   "metadata": {},
   "outputs": [],
   "source": [
    "orders_prods_custs_merge = orders_prods_custs_merge.drop(labels=[967639, 960327, 773202, 773188, 531488, 503002, 502980, 502963, 502898, 502941, 286470, 286447, 286436, 129922, 129909 ], axis=0)"
   ]
  },
  {
   "cell_type": "code",
   "execution_count": 39,
   "id": "a93270e4",
   "metadata": {},
   "outputs": [],
   "source": [
    "orders_prods_custs_merge = orders_prods_custs_merge.drop(orders_prods_custs_merge.index[orders_prods_custs_merge['product_id'] == 21553.0 ])"
   ]
  },
  {
   "cell_type": "code",
   "execution_count": 40,
   "id": "8015b0d3",
   "metadata": {},
   "outputs": [
    {
     "data": {
      "text/plain": [
       "count    3.240042e+07\n",
       "mean     9.945098e+00\n",
       "std      4.641173e+02\n",
       "min      1.000000e+00\n",
       "25%      4.200000e+00\n",
       "50%      7.400000e+00\n",
       "75%      1.130000e+01\n",
       "max      9.999900e+04\n",
       "Name: prices, dtype: float64"
      ]
     },
     "execution_count": 40,
     "metadata": {},
     "output_type": "execute_result"
    }
   ],
   "source": [
    "orders_prods_custs_merge['prices'].describe()"
   ]
  },
  {
   "cell_type": "code",
   "execution_count": 41,
   "id": "df370e1e",
   "metadata": {},
   "outputs": [
    {
     "data": {
      "text/html": [
       "<div>\n",
       "<style scoped>\n",
       "    .dataframe tbody tr th:only-of-type {\n",
       "        vertical-align: middle;\n",
       "    }\n",
       "\n",
       "    .dataframe tbody tr th {\n",
       "        vertical-align: top;\n",
       "    }\n",
       "\n",
       "    .dataframe thead th {\n",
       "        text-align: right;\n",
       "    }\n",
       "</style>\n",
       "<table border=\"1\" class=\"dataframe\">\n",
       "  <thead>\n",
       "    <tr style=\"text-align: right;\">\n",
       "      <th></th>\n",
       "      <th>order_id</th>\n",
       "      <th>user_id</th>\n",
       "      <th>eval_set</th>\n",
       "      <th>order_number</th>\n",
       "      <th>order_dow</th>\n",
       "      <th>order_hour_of_day</th>\n",
       "      <th>days_since_prior_order</th>\n",
       "      <th>product_id</th>\n",
       "      <th>add_to_cart_order</th>\n",
       "      <th>reordered</th>\n",
       "      <th>...</th>\n",
       "      <th>frequency_flag</th>\n",
       "      <th>first_name</th>\n",
       "      <th>surname</th>\n",
       "      <th>gender</th>\n",
       "      <th>state</th>\n",
       "      <th>age</th>\n",
       "      <th>date_joined</th>\n",
       "      <th>number_of_dependents</th>\n",
       "      <th>family_status</th>\n",
       "      <th>income</th>\n",
       "    </tr>\n",
       "  </thead>\n",
       "  <tbody>\n",
       "    <tr>\n",
       "      <th>128911</th>\n",
       "      <td>183964</td>\n",
       "      <td>873</td>\n",
       "      <td>prior</td>\n",
       "      <td>3</td>\n",
       "      <td>0</td>\n",
       "      <td>10</td>\n",
       "      <td>7.0</td>\n",
       "      <td>33664.0</td>\n",
       "      <td>11.0</td>\n",
       "      <td>0.0</td>\n",
       "      <td>...</td>\n",
       "      <td>Regular customer</td>\n",
       "      <td>Edward</td>\n",
       "      <td>Carr</td>\n",
       "      <td>Male</td>\n",
       "      <td>Colorado</td>\n",
       "      <td>64</td>\n",
       "      <td>2/28/2019</td>\n",
       "      <td>3</td>\n",
       "      <td>married</td>\n",
       "      <td>290220</td>\n",
       "    </tr>\n",
       "    <tr>\n",
       "      <th>128924</th>\n",
       "      <td>1851256</td>\n",
       "      <td>873</td>\n",
       "      <td>prior</td>\n",
       "      <td>4</td>\n",
       "      <td>6</td>\n",
       "      <td>12</td>\n",
       "      <td>13.0</td>\n",
       "      <td>33664.0</td>\n",
       "      <td>8.0</td>\n",
       "      <td>1.0</td>\n",
       "      <td>...</td>\n",
       "      <td>Regular customer</td>\n",
       "      <td>Edward</td>\n",
       "      <td>Carr</td>\n",
       "      <td>Male</td>\n",
       "      <td>Colorado</td>\n",
       "      <td>64</td>\n",
       "      <td>2/28/2019</td>\n",
       "      <td>3</td>\n",
       "      <td>married</td>\n",
       "      <td>290220</td>\n",
       "    </tr>\n",
       "    <tr>\n",
       "      <th>284218</th>\n",
       "      <td>1915696</td>\n",
       "      <td>1893</td>\n",
       "      <td>prior</td>\n",
       "      <td>1</td>\n",
       "      <td>5</td>\n",
       "      <td>17</td>\n",
       "      <td>NaN</td>\n",
       "      <td>33664.0</td>\n",
       "      <td>10.0</td>\n",
       "      <td>0.0</td>\n",
       "      <td>...</td>\n",
       "      <td>Non frequent customer</td>\n",
       "      <td>Christine</td>\n",
       "      <td>Le</td>\n",
       "      <td>Female</td>\n",
       "      <td>Colorado</td>\n",
       "      <td>23</td>\n",
       "      <td>8/27/2019</td>\n",
       "      <td>3</td>\n",
       "      <td>married</td>\n",
       "      <td>348829</td>\n",
       "    </tr>\n",
       "    <tr>\n",
       "      <th>284229</th>\n",
       "      <td>2763293</td>\n",
       "      <td>1893</td>\n",
       "      <td>prior</td>\n",
       "      <td>2</td>\n",
       "      <td>4</td>\n",
       "      <td>16</td>\n",
       "      <td>13.0</td>\n",
       "      <td>33664.0</td>\n",
       "      <td>6.0</td>\n",
       "      <td>1.0</td>\n",
       "      <td>...</td>\n",
       "      <td>Non frequent customer</td>\n",
       "      <td>Christine</td>\n",
       "      <td>Le</td>\n",
       "      <td>Female</td>\n",
       "      <td>Colorado</td>\n",
       "      <td>23</td>\n",
       "      <td>8/27/2019</td>\n",
       "      <td>3</td>\n",
       "      <td>married</td>\n",
       "      <td>348829</td>\n",
       "    </tr>\n",
       "    <tr>\n",
       "      <th>284252</th>\n",
       "      <td>2564805</td>\n",
       "      <td>1893</td>\n",
       "      <td>prior</td>\n",
       "      <td>4</td>\n",
       "      <td>1</td>\n",
       "      <td>17</td>\n",
       "      <td>30.0</td>\n",
       "      <td>33664.0</td>\n",
       "      <td>3.0</td>\n",
       "      <td>1.0</td>\n",
       "      <td>...</td>\n",
       "      <td>Non frequent customer</td>\n",
       "      <td>Christine</td>\n",
       "      <td>Le</td>\n",
       "      <td>Female</td>\n",
       "      <td>Colorado</td>\n",
       "      <td>23</td>\n",
       "      <td>8/27/2019</td>\n",
       "      <td>3</td>\n",
       "      <td>married</td>\n",
       "      <td>348829</td>\n",
       "    </tr>\n",
       "    <tr>\n",
       "      <th>...</th>\n",
       "      <td>...</td>\n",
       "      <td>...</td>\n",
       "      <td>...</td>\n",
       "      <td>...</td>\n",
       "      <td>...</td>\n",
       "      <td>...</td>\n",
       "      <td>...</td>\n",
       "      <td>...</td>\n",
       "      <td>...</td>\n",
       "      <td>...</td>\n",
       "      <td>...</td>\n",
       "      <td>...</td>\n",
       "      <td>...</td>\n",
       "      <td>...</td>\n",
       "      <td>...</td>\n",
       "      <td>...</td>\n",
       "      <td>...</td>\n",
       "      <td>...</td>\n",
       "      <td>...</td>\n",
       "      <td>...</td>\n",
       "      <td>...</td>\n",
       "    </tr>\n",
       "    <tr>\n",
       "      <th>32079919</th>\n",
       "      <td>2249946</td>\n",
       "      <td>204099</td>\n",
       "      <td>prior</td>\n",
       "      <td>29</td>\n",
       "      <td>0</td>\n",
       "      <td>8</td>\n",
       "      <td>4.0</td>\n",
       "      <td>33664.0</td>\n",
       "      <td>1.0</td>\n",
       "      <td>0.0</td>\n",
       "      <td>...</td>\n",
       "      <td>Non frequent customer</td>\n",
       "      <td>Gary</td>\n",
       "      <td>Wilson</td>\n",
       "      <td>Male</td>\n",
       "      <td>Washington</td>\n",
       "      <td>48</td>\n",
       "      <td>9/8/2019</td>\n",
       "      <td>3</td>\n",
       "      <td>married</td>\n",
       "      <td>536156</td>\n",
       "    </tr>\n",
       "    <tr>\n",
       "      <th>32079936</th>\n",
       "      <td>2363282</td>\n",
       "      <td>204099</td>\n",
       "      <td>prior</td>\n",
       "      <td>31</td>\n",
       "      <td>0</td>\n",
       "      <td>9</td>\n",
       "      <td>2.0</td>\n",
       "      <td>33664.0</td>\n",
       "      <td>1.0</td>\n",
       "      <td>1.0</td>\n",
       "      <td>...</td>\n",
       "      <td>Non frequent customer</td>\n",
       "      <td>Gary</td>\n",
       "      <td>Wilson</td>\n",
       "      <td>Male</td>\n",
       "      <td>Washington</td>\n",
       "      <td>48</td>\n",
       "      <td>9/8/2019</td>\n",
       "      <td>3</td>\n",
       "      <td>married</td>\n",
       "      <td>536156</td>\n",
       "    </tr>\n",
       "    <tr>\n",
       "      <th>32125745</th>\n",
       "      <td>3181945</td>\n",
       "      <td>204395</td>\n",
       "      <td>prior</td>\n",
       "      <td>13</td>\n",
       "      <td>3</td>\n",
       "      <td>15</td>\n",
       "      <td>8.0</td>\n",
       "      <td>33664.0</td>\n",
       "      <td>25.0</td>\n",
       "      <td>0.0</td>\n",
       "      <td>...</td>\n",
       "      <td>Regular customer</td>\n",
       "      <td>Shirley</td>\n",
       "      <td>Ellis</td>\n",
       "      <td>Female</td>\n",
       "      <td>Missouri</td>\n",
       "      <td>78</td>\n",
       "      <td>11/9/2019</td>\n",
       "      <td>3</td>\n",
       "      <td>married</td>\n",
       "      <td>137004</td>\n",
       "    </tr>\n",
       "    <tr>\n",
       "      <th>32255078</th>\n",
       "      <td>2486215</td>\n",
       "      <td>205227</td>\n",
       "      <td>prior</td>\n",
       "      <td>7</td>\n",
       "      <td>3</td>\n",
       "      <td>20</td>\n",
       "      <td>4.0</td>\n",
       "      <td>33664.0</td>\n",
       "      <td>8.0</td>\n",
       "      <td>0.0</td>\n",
       "      <td>...</td>\n",
       "      <td>Non frequent customer</td>\n",
       "      <td>Victor</td>\n",
       "      <td>Rivers</td>\n",
       "      <td>Male</td>\n",
       "      <td>Arizona</td>\n",
       "      <td>78</td>\n",
       "      <td>8/9/2018</td>\n",
       "      <td>3</td>\n",
       "      <td>married</td>\n",
       "      <td>294898</td>\n",
       "    </tr>\n",
       "    <tr>\n",
       "      <th>32255132</th>\n",
       "      <td>2232716</td>\n",
       "      <td>205227</td>\n",
       "      <td>prior</td>\n",
       "      <td>10</td>\n",
       "      <td>0</td>\n",
       "      <td>11</td>\n",
       "      <td>4.0</td>\n",
       "      <td>33664.0</td>\n",
       "      <td>23.0</td>\n",
       "      <td>1.0</td>\n",
       "      <td>...</td>\n",
       "      <td>Non frequent customer</td>\n",
       "      <td>Victor</td>\n",
       "      <td>Rivers</td>\n",
       "      <td>Male</td>\n",
       "      <td>Arizona</td>\n",
       "      <td>78</td>\n",
       "      <td>8/9/2018</td>\n",
       "      <td>3</td>\n",
       "      <td>married</td>\n",
       "      <td>294898</td>\n",
       "    </tr>\n",
       "  </tbody>\n",
       "</table>\n",
       "<p>698 rows × 34 columns</p>\n",
       "</div>"
      ],
      "text/plain": [
       "          order_id  user_id eval_set  order_number  order_dow  \\\n",
       "128911      183964      873    prior             3          0   \n",
       "128924     1851256      873    prior             4          6   \n",
       "284218     1915696     1893    prior             1          5   \n",
       "284229     2763293     1893    prior             2          4   \n",
       "284252     2564805     1893    prior             4          1   \n",
       "...            ...      ...      ...           ...        ...   \n",
       "32079919   2249946   204099    prior            29          0   \n",
       "32079936   2363282   204099    prior            31          0   \n",
       "32125745   3181945   204395    prior            13          3   \n",
       "32255078   2486215   205227    prior             7          3   \n",
       "32255132   2232716   205227    prior            10          0   \n",
       "\n",
       "          order_hour_of_day  days_since_prior_order  product_id  \\\n",
       "128911                   10                     7.0     33664.0   \n",
       "128924                   12                    13.0     33664.0   \n",
       "284218                   17                     NaN     33664.0   \n",
       "284229                   16                    13.0     33664.0   \n",
       "284252                   17                    30.0     33664.0   \n",
       "...                     ...                     ...         ...   \n",
       "32079919                  8                     4.0     33664.0   \n",
       "32079936                  9                     2.0     33664.0   \n",
       "32125745                 15                     8.0     33664.0   \n",
       "32255078                 20                     4.0     33664.0   \n",
       "32255132                 11                     4.0     33664.0   \n",
       "\n",
       "          add_to_cart_order  reordered  ...         frequency_flag  \\\n",
       "128911                 11.0        0.0  ...       Regular customer   \n",
       "128924                  8.0        1.0  ...       Regular customer   \n",
       "284218                 10.0        0.0  ...  Non frequent customer   \n",
       "284229                  6.0        1.0  ...  Non frequent customer   \n",
       "284252                  3.0        1.0  ...  Non frequent customer   \n",
       "...                     ...        ...  ...                    ...   \n",
       "32079919                1.0        0.0  ...  Non frequent customer   \n",
       "32079936                1.0        1.0  ...  Non frequent customer   \n",
       "32125745               25.0        0.0  ...       Regular customer   \n",
       "32255078                8.0        0.0  ...  Non frequent customer   \n",
       "32255132               23.0        1.0  ...  Non frequent customer   \n",
       "\n",
       "          first_name  surname  gender       state age date_joined  \\\n",
       "128911        Edward     Carr    Male    Colorado  64   2/28/2019   \n",
       "128924        Edward     Carr    Male    Colorado  64   2/28/2019   \n",
       "284218     Christine       Le  Female    Colorado  23   8/27/2019   \n",
       "284229     Christine       Le  Female    Colorado  23   8/27/2019   \n",
       "284252     Christine       Le  Female    Colorado  23   8/27/2019   \n",
       "...              ...      ...     ...         ...  ..         ...   \n",
       "32079919        Gary   Wilson    Male  Washington  48    9/8/2019   \n",
       "32079936        Gary   Wilson    Male  Washington  48    9/8/2019   \n",
       "32125745     Shirley    Ellis  Female    Missouri  78   11/9/2019   \n",
       "32255078      Victor   Rivers    Male     Arizona  78    8/9/2018   \n",
       "32255132      Victor   Rivers    Male     Arizona  78    8/9/2018   \n",
       "\n",
       "         number_of_dependents family_status  income  \n",
       "128911                      3       married  290220  \n",
       "128924                      3       married  290220  \n",
       "284218                      3       married  348829  \n",
       "284229                      3       married  348829  \n",
       "284252                      3       married  348829  \n",
       "...                       ...           ...     ...  \n",
       "32079919                    3       married  536156  \n",
       "32079936                    3       married  536156  \n",
       "32125745                    3       married  137004  \n",
       "32255078                    3       married  294898  \n",
       "32255132                    3       married  294898  \n",
       "\n",
       "[698 rows x 34 columns]"
      ]
     },
     "execution_count": 41,
     "metadata": {},
     "output_type": "execute_result"
    }
   ],
   "source": [
    "orders_prods_custs_merge.loc[(orders_prods_custs_merge['prices'] == 99999)]"
   ]
  },
  {
   "cell_type": "code",
   "execution_count": 42,
   "id": "e91523b2",
   "metadata": {},
   "outputs": [],
   "source": [
    "orders_prods_custs_merge = orders_prods_custs_merge.drop(orders_prods_custs_merge.index[orders_prods_custs_merge['product_id'] == 33664])"
   ]
  },
  {
   "cell_type": "code",
   "execution_count": 43,
   "id": "9b833aa5",
   "metadata": {},
   "outputs": [
    {
     "data": {
      "text/plain": [
       "count    3.239972e+07\n",
       "mean     7.790994e+00\n",
       "std      4.241810e+00\n",
       "min      1.000000e+00\n",
       "25%      4.200000e+00\n",
       "50%      7.400000e+00\n",
       "75%      1.130000e+01\n",
       "max      2.500000e+01\n",
       "Name: prices, dtype: float64"
      ]
     },
     "execution_count": 43,
     "metadata": {},
     "output_type": "execute_result"
    }
   ],
   "source": [
    "orders_prods_custs_merge['prices'].describe()"
   ]
  },
  {
   "cell_type": "code",
   "execution_count": 44,
   "id": "aa22f595",
   "metadata": {},
   "outputs": [
    {
     "data": {
      "text/plain": [
       "Text(0, 0.5, 'products to the price purchase')"
      ]
     },
     "execution_count": 44,
     "metadata": {},
     "output_type": "execute_result"
    },
    {
     "data": {
      "image/png": "[encoded data removed]",
      "text/plain": [
       "<Figure size 432x288 with 1 Axes>"
      ]
     },
     "metadata": {
      "needs_background": "light"
     },
     "output_type": "display_data"
    }
   ],
   "source": [
    "hist_price = orders_prods_custs_merge['prices'].plot.hist(bins = 25, color = \"blue\", ec=\"red\")\n",
    "\n",
    "plt.title('Price history Histogram')\n",
    "plt.xlabel(\"prices\")\n",
    "plt.ylabel(\"products to the price purchase\")"
   ]
  },
  {
   "cell_type": "code",
   "execution_count": 45,
   "id": "f78d1550",
   "metadata": {},
   "outputs": [],
   "source": [
    "hist_price.figure.savefig(os.path.join(path, '04 Analysis','Visualizations', 'hist_price.png'))"
   ]
  },
  {
   "cell_type": "code",
   "execution_count": 46,
   "id": "4a1cf27d",
   "metadata": {},
   "outputs": [],
   "source": [
    "def price_label(row):\n",
    "\n",
    "  if row['prices'] <= 7:\n",
    "    return 'Low-range product'\n",
    "  elif (row['prices'] > 7) and (row['prices'] <= 15):\n",
    "    return 'Mid-range product'\n",
    "  elif row['prices'] > 15:\n",
    "    return 'High range'\n",
    "  else: return 'Not enough data'"
   ]
  },
  {
   "cell_type": "code",
   "execution_count": 47,
   "id": "bbeb879a",
   "metadata": {},
   "outputs": [],
   "source": [
    "orders_prods_custs_merge['price_range'] = orders_prods_custs_merge.apply(price_label, axis=1)"
   ]
  },
  {
   "cell_type": "code",
   "execution_count": 48,
   "id": "ce8c8584",
   "metadata": {},
   "outputs": [
    {
     "data": {
      "text/plain": [
       "Mid-range product    16607365\n",
       "Low-range product    15379801\n",
       "High range             412551\n",
       "Name: price_range, dtype: int64"
      ]
     },
     "execution_count": 48,
     "metadata": {},
     "output_type": "execute_result"
    }
   ],
   "source": [
    "orders_prods_custs_merge['price_range'].value_counts (dropna = False)"
   ]
  },
  {
   "cell_type": "code",
   "execution_count": 49,
   "id": "856cdd44",
   "metadata": {},
   "outputs": [
    {
     "data": {
      "text/plain": [
       "Text(0, 0.5, 'customers in millions')"
      ]
     },
     "execution_count": 49,
     "metadata": {},
     "output_type": "execute_result"
    },
    {
     "data": {
      "image/png": "[encoded data removed]",
      "text/plain": [
       "<Figure size 432x288 with 1 Axes>"
      ]
     },
     "metadata": {
      "needs_background": "light"
     },
     "output_type": "display_data"
    }
   ],
   "source": [
    "price_range_chart = orders_prods_custs_merge['price_range'].value_counts().plot.bar()\n",
    "\n",
    "plt.title('Customer spending range')\n",
    "plt.xlabel(\"Customer ranges\")\n",
    "plt.ylabel(\"customers in millions\")"
   ]
  },
  {
   "cell_type": "code",
   "execution_count": 50,
   "id": "73e83252",
   "metadata": {},
   "outputs": [],
   "source": [
    "price_range_chart.figure.savefig(os.path.join(path, '04 Analysis','Visualizations', 'price_range.png'))"
   ]
  },
  {
   "cell_type": "markdown",
   "id": "79f1f0df",
   "metadata": {},
   "source": [
    "## Key question 4: Are there certain types of products that are more popular than others? The marketing and sales teams want to know which departments have the highest frequency of product orders."
   ]
  },
  {
   "cell_type": "code",
   "execution_count": 51,
   "id": "91d72e08",
   "metadata": {},
   "outputs": [],
   "source": [
    "departments_wrangled = pd.read_csv(os.path.join(path, '02 Data', 'Prepared Data', 'departments_wrangled.csv'))"
   ]
  },
  {
   "cell_type": "code",
   "execution_count": 52,
   "id": "9b8ebe0d",
   "metadata": {},
   "outputs": [
    {
     "data": {
      "text/html": [
       "<div>\n",
       "<style scoped>\n",
       "    .dataframe tbody tr th:only-of-type {\n",
       "        vertical-align: middle;\n",
       "    }\n",
       "\n",
       "    .dataframe tbody tr th {\n",
       "        vertical-align: top;\n",
       "    }\n",
       "\n",
       "    .dataframe thead th {\n",
       "        text-align: right;\n",
       "    }\n",
       "</style>\n",
       "<table border=\"1\" class=\"dataframe\">\n",
       "  <thead>\n",
       "    <tr style=\"text-align: right;\">\n",
       "      <th></th>\n",
       "      <th>Unnamed: 0</th>\n",
       "      <th>department_name</th>\n",
       "    </tr>\n",
       "  </thead>\n",
       "  <tbody>\n",
       "    <tr>\n",
       "      <th>0</th>\n",
       "      <td>1</td>\n",
       "      <td>frozen</td>\n",
       "    </tr>\n",
       "    <tr>\n",
       "      <th>1</th>\n",
       "      <td>2</td>\n",
       "      <td>other</td>\n",
       "    </tr>\n",
       "    <tr>\n",
       "      <th>2</th>\n",
       "      <td>3</td>\n",
       "      <td>bakery</td>\n",
       "    </tr>\n",
       "    <tr>\n",
       "      <th>3</th>\n",
       "      <td>4</td>\n",
       "      <td>produce</td>\n",
       "    </tr>\n",
       "    <tr>\n",
       "      <th>4</th>\n",
       "      <td>5</td>\n",
       "      <td>alcohol</td>\n",
       "    </tr>\n",
       "    <tr>\n",
       "      <th>5</th>\n",
       "      <td>6</td>\n",
       "      <td>international</td>\n",
       "    </tr>\n",
       "    <tr>\n",
       "      <th>6</th>\n",
       "      <td>7</td>\n",
       "      <td>beverages</td>\n",
       "    </tr>\n",
       "    <tr>\n",
       "      <th>7</th>\n",
       "      <td>8</td>\n",
       "      <td>pets</td>\n",
       "    </tr>\n",
       "    <tr>\n",
       "      <th>8</th>\n",
       "      <td>9</td>\n",
       "      <td>dry goods pasta</td>\n",
       "    </tr>\n",
       "    <tr>\n",
       "      <th>9</th>\n",
       "      <td>10</td>\n",
       "      <td>bulk</td>\n",
       "    </tr>\n",
       "    <tr>\n",
       "      <th>10</th>\n",
       "      <td>11</td>\n",
       "      <td>personal care</td>\n",
       "    </tr>\n",
       "    <tr>\n",
       "      <th>11</th>\n",
       "      <td>12</td>\n",
       "      <td>meat seafood</td>\n",
       "    </tr>\n",
       "    <tr>\n",
       "      <th>12</th>\n",
       "      <td>13</td>\n",
       "      <td>pantry</td>\n",
       "    </tr>\n",
       "    <tr>\n",
       "      <th>13</th>\n",
       "      <td>14</td>\n",
       "      <td>breakfast</td>\n",
       "    </tr>\n",
       "    <tr>\n",
       "      <th>14</th>\n",
       "      <td>15</td>\n",
       "      <td>canned goods</td>\n",
       "    </tr>\n",
       "    <tr>\n",
       "      <th>15</th>\n",
       "      <td>16</td>\n",
       "      <td>dairy eggs</td>\n",
       "    </tr>\n",
       "    <tr>\n",
       "      <th>16</th>\n",
       "      <td>17</td>\n",
       "      <td>household</td>\n",
       "    </tr>\n",
       "    <tr>\n",
       "      <th>17</th>\n",
       "      <td>18</td>\n",
       "      <td>babies</td>\n",
       "    </tr>\n",
       "    <tr>\n",
       "      <th>18</th>\n",
       "      <td>19</td>\n",
       "      <td>snacks</td>\n",
       "    </tr>\n",
       "    <tr>\n",
       "      <th>19</th>\n",
       "      <td>20</td>\n",
       "      <td>deli</td>\n",
       "    </tr>\n",
       "    <tr>\n",
       "      <th>20</th>\n",
       "      <td>21</td>\n",
       "      <td>missing</td>\n",
       "    </tr>\n",
       "  </tbody>\n",
       "</table>\n",
       "</div>"
      ],
      "text/plain": [
       "    Unnamed: 0  department_name\n",
       "0            1           frozen\n",
       "1            2            other\n",
       "2            3           bakery\n",
       "3            4          produce\n",
       "4            5          alcohol\n",
       "5            6    international\n",
       "6            7        beverages\n",
       "7            8             pets\n",
       "8            9  dry goods pasta\n",
       "9           10             bulk\n",
       "10          11    personal care\n",
       "11          12     meat seafood\n",
       "12          13           pantry\n",
       "13          14        breakfast\n",
       "14          15     canned goods\n",
       "15          16       dairy eggs\n",
       "16          17        household\n",
       "17          18           babies\n",
       "18          19           snacks\n",
       "19          20             deli\n",
       "20          21          missing"
      ]
     },
     "execution_count": 52,
     "metadata": {},
     "output_type": "execute_result"
    }
   ],
   "source": [
    "# The departments\n",
    "\n",
    "departments_wrangled.head (21)"
   ]
  },
  {
   "cell_type": "code",
   "execution_count": 53,
   "id": "aa6ff309",
   "metadata": {},
   "outputs": [],
   "source": [
    "departments_wrangled.rename(columns = {'Unnamed: 0':'department_id'}, inplace = True)\n"
   ]
  },
  {
   "cell_type": "code",
   "execution_count": 54,
   "id": "90d7e093",
   "metadata": {},
   "outputs": [
    {
     "data": {
      "text/html": [
       "<div>\n",
       "<style scoped>\n",
       "    .dataframe tbody tr th:only-of-type {\n",
       "        vertical-align: middle;\n",
       "    }\n",
       "\n",
       "    .dataframe tbody tr th {\n",
       "        vertical-align: top;\n",
       "    }\n",
       "\n",
       "    .dataframe thead th {\n",
       "        text-align: right;\n",
       "    }\n",
       "</style>\n",
       "<table border=\"1\" class=\"dataframe\">\n",
       "  <thead>\n",
       "    <tr style=\"text-align: right;\">\n",
       "      <th></th>\n",
       "      <th>department_id</th>\n",
       "      <th>department_name</th>\n",
       "    </tr>\n",
       "  </thead>\n",
       "  <tbody>\n",
       "    <tr>\n",
       "      <th>0</th>\n",
       "      <td>1</td>\n",
       "      <td>frozen</td>\n",
       "    </tr>\n",
       "    <tr>\n",
       "      <th>1</th>\n",
       "      <td>2</td>\n",
       "      <td>other</td>\n",
       "    </tr>\n",
       "    <tr>\n",
       "      <th>2</th>\n",
       "      <td>3</td>\n",
       "      <td>bakery</td>\n",
       "    </tr>\n",
       "    <tr>\n",
       "      <th>3</th>\n",
       "      <td>4</td>\n",
       "      <td>produce</td>\n",
       "    </tr>\n",
       "    <tr>\n",
       "      <th>4</th>\n",
       "      <td>5</td>\n",
       "      <td>alcohol</td>\n",
       "    </tr>\n",
       "    <tr>\n",
       "      <th>5</th>\n",
       "      <td>6</td>\n",
       "      <td>international</td>\n",
       "    </tr>\n",
       "    <tr>\n",
       "      <th>6</th>\n",
       "      <td>7</td>\n",
       "      <td>beverages</td>\n",
       "    </tr>\n",
       "    <tr>\n",
       "      <th>7</th>\n",
       "      <td>8</td>\n",
       "      <td>pets</td>\n",
       "    </tr>\n",
       "    <tr>\n",
       "      <th>8</th>\n",
       "      <td>9</td>\n",
       "      <td>dry goods pasta</td>\n",
       "    </tr>\n",
       "    <tr>\n",
       "      <th>9</th>\n",
       "      <td>10</td>\n",
       "      <td>bulk</td>\n",
       "    </tr>\n",
       "    <tr>\n",
       "      <th>10</th>\n",
       "      <td>11</td>\n",
       "      <td>personal care</td>\n",
       "    </tr>\n",
       "    <tr>\n",
       "      <th>11</th>\n",
       "      <td>12</td>\n",
       "      <td>meat seafood</td>\n",
       "    </tr>\n",
       "    <tr>\n",
       "      <th>12</th>\n",
       "      <td>13</td>\n",
       "      <td>pantry</td>\n",
       "    </tr>\n",
       "    <tr>\n",
       "      <th>13</th>\n",
       "      <td>14</td>\n",
       "      <td>breakfast</td>\n",
       "    </tr>\n",
       "    <tr>\n",
       "      <th>14</th>\n",
       "      <td>15</td>\n",
       "      <td>canned goods</td>\n",
       "    </tr>\n",
       "    <tr>\n",
       "      <th>15</th>\n",
       "      <td>16</td>\n",
       "      <td>dairy eggs</td>\n",
       "    </tr>\n",
       "    <tr>\n",
       "      <th>16</th>\n",
       "      <td>17</td>\n",
       "      <td>household</td>\n",
       "    </tr>\n",
       "    <tr>\n",
       "      <th>17</th>\n",
       "      <td>18</td>\n",
       "      <td>babies</td>\n",
       "    </tr>\n",
       "    <tr>\n",
       "      <th>18</th>\n",
       "      <td>19</td>\n",
       "      <td>snacks</td>\n",
       "    </tr>\n",
       "    <tr>\n",
       "      <th>19</th>\n",
       "      <td>20</td>\n",
       "      <td>deli</td>\n",
       "    </tr>\n",
       "    <tr>\n",
       "      <th>20</th>\n",
       "      <td>21</td>\n",
       "      <td>missing</td>\n",
       "    </tr>\n",
       "  </tbody>\n",
       "</table>\n",
       "</div>"
      ],
      "text/plain": [
       "    department_id  department_name\n",
       "0               1           frozen\n",
       "1               2            other\n",
       "2               3           bakery\n",
       "3               4          produce\n",
       "4               5          alcohol\n",
       "5               6    international\n",
       "6               7        beverages\n",
       "7               8             pets\n",
       "8               9  dry goods pasta\n",
       "9              10             bulk\n",
       "10             11    personal care\n",
       "11             12     meat seafood\n",
       "12             13           pantry\n",
       "13             14        breakfast\n",
       "14             15     canned goods\n",
       "15             16       dairy eggs\n",
       "16             17        household\n",
       "17             18           babies\n",
       "18             19           snacks\n",
       "19             20             deli\n",
       "20             21          missing"
      ]
     },
     "execution_count": 54,
     "metadata": {},
     "output_type": "execute_result"
    }
   ],
   "source": [
    "departments_wrangled.head (21)"
   ]
  },
  {
   "cell_type": "code",
   "execution_count": 56,
   "id": "6011468a",
   "metadata": {},
   "outputs": [],
   "source": [
    "orders_prods_custs_merge_depts = orders_prods_custs_merge.merge(departments_wrangled, on = 'department_id')"
   ]
  },
  {
   "cell_type": "code",
   "execution_count": 57,
   "id": "74510d5f",
   "metadata": {},
   "outputs": [
    {
     "data": {
      "text/plain": [
       "Text(0, 0.5, 'Frequency of product purchased')"
      ]
     },
     "execution_count": 57,
     "metadata": {},
     "output_type": "execute_result"
    },
    {
     "data": {
      "image/png": "[encoded data removed]",
      "text/plain": [
       "<Figure size 432x288 with 1 Axes>"
      ]
     },
     "metadata": {
      "needs_background": "light"
     },
     "output_type": "display_data"
    }
   ],
   "source": [
    "# bar graph of most bought products per department \n",
    "\n",
    "bar_dept = orders_prods_custs_merge_depts['department_name'].value_counts().plot.bar()\n",
    "\n",
    "plt.title('Product purchase range')\n",
    "plt.xlabel(\"Product\")\n",
    "plt.ylabel(\"Frequency of product purchased\")"
   ]
  },
  {
   "cell_type": "code",
   "execution_count": 58,
   "id": "d44d4dd7",
   "metadata": {},
   "outputs": [],
   "source": [
    "bar_dept.figure.savefig(os.path.join(path, '04 Analysis','Visualizations', 'bar_dept.png'))"
   ]
  },
  {
   "cell_type": "markdown",
   "id": "baecf33e",
   "metadata": {},
   "source": [
    "## Key question: 5a\n"
   ]
  },
  {
   "cell_type": "code",
   "execution_count": 60,
   "id": "b258187c",
   "metadata": {},
   "outputs": [],
   "source": [
    "# the loyalty flag for the brand\n",
    "\n",
    "loyalty = orders_prods_custs_merge_depts['loyalty_flag'].value_counts(dropna = False)"
   ]
  },
  {
   "cell_type": "code",
   "execution_count": 61,
   "id": "28e9fa59",
   "metadata": {},
   "outputs": [
    {
     "data": {
      "image/png": "[encoded data removed]",
      "text/plain": [
       "<Figure size 432x288 with 1 Axes>"
      ]
     },
     "metadata": {},
     "output_type": "display_data"
    }
   ],
   "source": [
    "loyalty_chart = loyalty.plot.pie(autopct='%1.0f%%')"
   ]
  },
  {
   "cell_type": "code",
   "execution_count": 62,
   "id": "1b36d84b",
   "metadata": {},
   "outputs": [],
   "source": [
    "loyalty_chart.figure.savefig(os.path.join(path, '04 Analysis','Visualizations', 'loyalty_chart.png'))"
   ]
  },
  {
   "cell_type": "markdown",
   "id": "6db12a4f",
   "metadata": {},
   "source": [
    "## Key question: 5b"
   ]
  },
  {
   "cell_type": "code",
   "execution_count": 63,
   "id": "d4210e6e",
   "metadata": {},
   "outputs": [],
   "source": [
    "# connection between the amount spent and loyalty\n",
    "\n",
    "loyalty_ratio = pd.crosstab(orders_prods_custs_merge_depts['loyalty_flag'],orders_prods_custs_merge_depts['spending_flag'], dropna = False)"
   ]
  },
  {
   "cell_type": "code",
   "execution_count": 93,
   "id": "444cb05f",
   "metadata": {},
   "outputs": [
    {
     "data": {
      "text/plain": [
       "Text(0, 0.5, 'Frequency of product purchased')"
      ]
     },
     "execution_count": 93,
     "metadata": {},
     "output_type": "execute_result"
    },
    {
     "data": {
      "image/png": "[encoded data removed]",
      "text/plain": [
       "<Figure size 432x288 with 1 Axes>"
      ]
     },
     "metadata": {
      "needs_background": "light"
     },
     "output_type": "display_data"
    }
   ],
   "source": [
    "loyalty_ratio_chart = loyalty_ratio.plot.bar()\n",
    "\n",
    "plt.title('Spenders Range')\n",
    "plt.xlabel(\"customer status\")\n",
    "plt.ylabel(\"Frequency of product purchased\")"
   ]
  },
  {
   "cell_type": "code",
   "execution_count": 99,
   "id": "c44dfebf",
   "metadata": {},
   "outputs": [],
   "source": [
    "loyalty_ratio_chart.figure.savefig(os.path.join(path, '04 Analysis','Visualizations', 'loyalty_ratio_chart.png'))"
   ]
  },
  {
   "cell_type": "markdown",
   "id": "01bfebef",
   "metadata": {},
   "source": [
    "# Key question: 5c"
   ]
  },
  {
   "cell_type": "code",
   "execution_count": 66,
   "id": "830672f3",
   "metadata": {},
   "outputs": [],
   "source": [
    "# connection between region and the loyalty\n",
    "\n",
    "# Create groups of states in a region using if statement. \n",
    "\n",
    "region = []\n",
    "\n",
    "for value in orders_prods_custs_merge_depts['state']:\n",
    "    if (value in ['Maine', 'New Hampshire', 'Vermont', 'Massachusetts', 'Rhode Island', 'Connecticut', 'New York', 'Pennsylvania', 'New Jersey']):\n",
    "        region.append('Northeast')\n",
    "    elif (value in ['Wisconsin', 'Michigan', 'Illinois', 'Indiana', 'Ohio', 'North Dakota', 'South Dakota', 'Nebraska', 'Kansas', 'Minnesota', 'Iowa', 'Missouri']):\n",
    "        region.append('Midwest')\n",
    "    elif (value in ['Delaware', 'Maryland', 'District of Columbia', 'Virginia', 'West Virginia', 'North Carolina', 'South Carolina', 'Georgia', 'Florida', 'Kentucky', 'Tennessee', 'Mississippi', 'Alabama', 'Oklahoma', 'Texas', 'Arkansas', 'Louisiana']):\n",
    "        region.append('South')\n",
    "    else:\n",
    "        region.append('West')"
   ]
  },
  {
   "cell_type": "code",
   "execution_count": 67,
   "id": "b5247c66",
   "metadata": {},
   "outputs": [],
   "source": [
    "orders_prods_custs_merge_depts['region'] = region"
   ]
  },
  {
   "cell_type": "code",
   "execution_count": 68,
   "id": "31560db7",
   "metadata": {},
   "outputs": [],
   "source": [
    "loyalty_region = pd.crosstab(orders_prods_custs_merge_depts['loyalty_flag'],orders_prods_custs_merge_depts['region'], dropna = False)"
   ]
  },
  {
   "cell_type": "code",
   "execution_count": 94,
   "id": "a860b864",
   "metadata": {},
   "outputs": [
    {
     "data": {
      "text/plain": [
       "Text(0, 0.5, 'Frequency of product purchased')"
      ]
     },
     "execution_count": 94,
     "metadata": {},
     "output_type": "execute_result"
    },
    {
     "data": {
      "image/png": "[encoded data removed]",
      "text/plain": [
       "<Figure size 432x288 with 1 Axes>"
      ]
     },
     "metadata": {
      "needs_background": "light"
     },
     "output_type": "display_data"
    }
   ],
   "source": [
    "loyalty_region_chart = loyalty_region.plot.bar()\n",
    "\n",
    "plt.title('Regions distribution')\n",
    "plt.xlabel(\"Customer Staus\")\n",
    "plt.ylabel(\"Frequency of product purchased\")"
   ]
  },
  {
   "cell_type": "code",
   "execution_count": 98,
   "id": "92f4ebb8",
   "metadata": {},
   "outputs": [],
   "source": [
    "loyalty_region_chart.figure.savefig(os.path.join(path, '04 Analysis','Visualizations', 'loyalty_region_chart.png'))"
   ]
  },
  {
   "cell_type": "markdown",
   "id": "241bf21a",
   "metadata": {},
   "source": [
    "# Key question: 5d"
   ]
  },
  {
   "cell_type": "code",
   "execution_count": 71,
   "id": "21fcdf43",
   "metadata": {},
   "outputs": [],
   "source": [
    "loyalty_family = pd.crosstab(orders_prods_custs_merge_depts['loyalty_flag'],orders_prods_custs_merge_depts['family_status'], dropna = False)"
   ]
  },
  {
   "cell_type": "code",
   "execution_count": 95,
   "id": "66c490be",
   "metadata": {},
   "outputs": [
    {
     "data": {
      "text/plain": [
       "Text(0, 0.5, 'Family Status')"
      ]
     },
     "execution_count": 95,
     "metadata": {},
     "output_type": "execute_result"
    },
    {
     "data": {
      "image/png": "[encoded data removed]",
      "text/plain": [
       "<Figure size 432x288 with 1 Axes>"
      ]
     },
     "metadata": {
      "needs_background": "light"
     },
     "output_type": "display_data"
    }
   ],
   "source": [
    "loyalty_family_chart = loyalty_family.plot.bar()\n",
    "\n",
    "plt.title('Family Status vs frequency ')\n",
    "plt.xlabel(\"Customer Status\")\n",
    "plt.ylabel(\"Family Status\")"
   ]
  },
  {
   "cell_type": "code",
   "execution_count": 96,
   "id": "d804f4e9",
   "metadata": {},
   "outputs": [],
   "source": [
    "loyalty_family_chart.figure.savefig(os.path.join(path, '04 Analysis','Visualizations', 'loyalty_family_chart.png'))"
   ]
  },
  {
   "cell_type": "code",
   "execution_count": 97,
   "id": "4cd2feb6",
   "metadata": {},
   "outputs": [],
   "source": [
    "# Creating an 'age' list\n",
    "\n",
    "age_profile_list = []\n",
    "\n",
    "for value in orders_prods_custs_merge_depts['age']:\n",
    "    if (value >= 18) and (value <= 24):\n",
    "        age_profile_list.append('18-24')\n",
    "    elif (value >= 25) and (value <= 34):\n",
    "        age_profile_list.append('25-34')\n",
    "    elif (value >= 35) and (value <= 44):\n",
    "        age_profile_list.append('35-44')\n",
    "    elif (value >= 45) and (value <= 54):\n",
    "        age_profile_list.append('45-54')\n",
    "    elif (value >= 55) and (value <= 64):\n",
    "        age_profile_list.append('55-64')\n",
    "    elif (value >= 65) and (value <= 74):\n",
    "        age_profile_list.append('65-74')\n",
    "    elif (value >= 75) and (value <= 84):\n",
    "        age_profile_list.append('75-84')\n",
    "    elif (value >= 85):\n",
    "        age_profile_list.append('85+')"
   ]
  },
  {
   "cell_type": "code",
   "execution_count": 75,
   "id": "8dbda1c7",
   "metadata": {},
   "outputs": [],
   "source": [
    "# create age list column\n",
    "\n",
    "orders_prods_custs_merge_depts['age_profile'] = age_profile_list"
   ]
  },
  {
   "cell_type": "code",
   "execution_count": 76,
   "id": "38520aad",
   "metadata": {},
   "outputs": [],
   "source": [
    "loyalty_age = pd.crosstab(orders_prods_custs_merge_depts['loyalty_flag'],orders_prods_custs_merge_depts['age_profile'], dropna = False)"
   ]
  },
  {
   "cell_type": "code",
   "execution_count": 101,
   "id": "0dfe53d2",
   "metadata": {},
   "outputs": [
    {
     "data": {
      "text/plain": [
       "Text(0, 0.5, 'Age Frequency')"
      ]
     },
     "execution_count": 101,
     "metadata": {},
     "output_type": "execute_result"
    },
    {
     "data": {
      "image/png": "[encoded data removed]",
      "text/plain": [
       "<Figure size 432x288 with 1 Axes>"
      ]
     },
     "metadata": {
      "needs_background": "light"
     },
     "output_type": "display_data"
    }
   ],
   "source": [
    "loyalty_age_chart = loyalty_age.plot.bar()\n",
    "\n",
    "plt.title('Age Profile vs customer Status')\n",
    "plt.xlabel(\"Customer status\")\n",
    "plt.ylabel(\"Age Frequency\")"
   ]
  },
  {
   "cell_type": "code",
   "execution_count": 102,
   "id": "86b22f19",
   "metadata": {},
   "outputs": [],
   "source": [
    "loyalty_age_chart.figure.savefig(os.path.join(path, '04 Analysis','Visualizations', 'loyalty_age_chart.png'))"
   ]
  },
  {
   "cell_type": "code",
   "execution_count": 79,
   "id": "5ab2fb72",
   "metadata": {},
   "outputs": [],
   "source": [
    "family_age = pd.crosstab(orders_prods_custs_merge_depts['family_status'],orders_prods_custs_merge_depts['age_profile'], dropna = False)"
   ]
  },
  {
   "cell_type": "code",
   "execution_count": 103,
   "id": "da217b49",
   "metadata": {},
   "outputs": [
    {
     "data": {
      "text/plain": [
       "Text(0, 0.5, 'Frequency of age')"
      ]
     },
     "execution_count": 103,
     "metadata": {},
     "output_type": "execute_result"
    },
    {
     "data": {
      "image/png": "[encoded data removed]",
      "text/plain": [
       "<Figure size 432x288 with 1 Axes>"
      ]
     },
     "metadata": {
      "needs_background": "light"
     },
     "output_type": "display_data"
    }
   ],
   "source": [
    "family_age_chart = family_age.plot.bar()\n",
    "\n",
    "plt.title('Family Status vs age')\n",
    "plt.xlabel(\"Family Status\")\n",
    "plt.ylabel(\"Frequency of age\")"
   ]
  },
  {
   "cell_type": "code",
   "execution_count": 104,
   "id": "f81ef72f",
   "metadata": {},
   "outputs": [],
   "source": [
    "family_age_chart.figure.savefig(os.path.join(path, '04 Analysis','Visualizations', 'family_age_chart.png'))"
   ]
  },
  {
   "cell_type": "markdown",
   "id": "fb4dc159",
   "metadata": {},
   "source": [
    "# Key question: 5e\n"
   ]
  },
  {
   "cell_type": "code",
   "execution_count": 105,
   "id": "9ac904fc",
   "metadata": {},
   "outputs": [
    {
     "data": {
      "image/png": "[encoded data removed]",
      "text/plain": [
       "<Figure size 432x288 with 1 Axes>"
      ]
     },
     "metadata": {},
     "output_type": "display_data"
    }
   ],
   "source": [
    "# The ratio of customer vs age\n",
    "\n",
    "age_demographics = orders_prods_custs_merge_depts['age_profile'].value_counts().plot.pie(autopct='%1.0f%%', ylabel = '', title = 'Age Profile Distribution of Instacart Customers')"
   ]
  },
  {
   "cell_type": "code",
   "execution_count": 106,
   "id": "1b5f8307",
   "metadata": {},
   "outputs": [],
   "source": [
    "age_demographics.figure.savefig(os.path.join(path, '04 Analysis','Visualizations', 'age_demographics_chart.png'))"
   ]
  },
  {
   "cell_type": "code",
   "execution_count": 107,
   "id": "3bd40e9e",
   "metadata": {},
   "outputs": [],
   "source": [
    "# Create 'income' list\n",
    "\n",
    "income_profile_list = []\n",
    "\n",
    "for value in orders_prods_custs_merge_depts['income']:\n",
    "    if value < 25000:\n",
    "        income_profile_list.append('0-25000')\n",
    "    elif (value >= 25000) and (value <= 50000):\n",
    "        income_profile_list.append('25000-50000')\n",
    "    elif (value >= 50000) and (value <= 75000):\n",
    "        income_profile_list.append('50000-75000')\n",
    "    elif (value >= 75000) and (value <= 100000):\n",
    "        income_profile_list.append('75000-100000')\n",
    "    elif (value >= 100000) and (value <= 125000):\n",
    "        income_profile_list.append('100000-125000')\n",
    "    elif (value >= 125000) and (value <= 150000):\n",
    "        income_profile_list.append('125000-150000')\n",
    "    elif (value >= 150000) and (value <= 175000):\n",
    "        income_profile_list.append('150000-175000')\n",
    "    elif (value >= 175000) and (value <= 200000):\n",
    "        income_profile_list.append('175000-200000')\n",
    "    elif (value >= 200000) and (value <= 300000):\n",
    "        income_profile_list.append('200000-300000')\n",
    "    elif (value >= 300000) and (value <= 400000):\n",
    "        income_profile_list.append('300000-400000')\n",
    "    elif (value >= 400000) and (value <= 500000):\n",
    "        income_profile_list.append('400000-500000')\n",
    "    elif value >= 500000:\n",
    "        income_profile_list.append('500000+')"
   ]
  },
  {
   "cell_type": "code",
   "execution_count": 108,
   "id": "8e039617",
   "metadata": {},
   "outputs": [],
   "source": [
    "orders_prods_custs_merge_depts['income_profile'] = income_profile_list"
   ]
  },
  {
   "cell_type": "code",
   "execution_count": 109,
   "id": "91853fe9",
   "metadata": {},
   "outputs": [
    {
     "data": {
      "text/plain": [
       "Text(0, 0.5, 'Frequency of purchasing')"
      ]
     },
     "execution_count": 109,
     "metadata": {},
     "output_type": "execute_result"
    },
    {
     "data": {
      "image/png": "[encoded data removed]",
      "text/plain": [
       "<Figure size 432x288 with 1 Axes>"
      ]
     },
     "metadata": {
      "needs_background": "light"
     },
     "output_type": "display_data"
    }
   ],
   "source": [
    "# ratio of income\n",
    "\n",
    "income = orders_prods_custs_merge_depts['income_profile'].sort_index().value_counts().plot.bar(xlabel = 'Income Group', color = 'tab:red')\\\n",
    "\n",
    "plt.title('Customer Income Groups ')\n",
    "plt.xlabel(\"Income range\")\n",
    "plt.ylabel(\"Frequency of purchasing\")"
   ]
  },
  {
   "cell_type": "code",
   "execution_count": 110,
   "id": "e142b87e",
   "metadata": {},
   "outputs": [],
   "source": [
    "income.figure.savefig(os.path.join(path, '04 Analysis','Visualizations', 'income_chart.png'))"
   ]
  },
  {
   "cell_type": "markdown",
   "id": "624ec7be",
   "metadata": {},
   "source": [
    "# Key question: 5f"
   ]
  },
  {
   "cell_type": "code",
   "execution_count": 111,
   "id": "088bc9de",
   "metadata": {},
   "outputs": [],
   "source": [
    "dependents_frequency = pd.crosstab(orders_prods_custs_merge_depts['number_of_dependents'], orders_prods_custs_merge_depts['days_since_prior_order'], dropna = False)"
   ]
  },
  {
   "cell_type": "code",
   "execution_count": 112,
   "id": "eb254d3a",
   "metadata": {},
   "outputs": [
    {
     "data": {
      "text/plain": [
       "Text(0, 0.5, 'Number of orders')"
      ]
     },
     "execution_count": 112,
     "metadata": {},
     "output_type": "execute_result"
    },
    {
     "data": {
      "image/png": "[encoded data removed]",
      "text/plain": [
       "<Figure size 432x288 with 1 Axes>"
      ]
     },
     "metadata": {
      "needs_background": "light"
     },
     "output_type": "display_data"
    }
   ],
   "source": [
    "dependents_frequency_chart = dependents_frequency.plot.bar(title = 'Order Frequency by Family Status')\n",
    "plt.legend(bbox_to_anchor = (1.3, 1.5))\n",
    "\n",
    "plt.ylabel(\"Number of orders\")"
   ]
  },
  {
   "cell_type": "code",
   "execution_count": 113,
   "id": "6ae68f0e",
   "metadata": {},
   "outputs": [],
   "source": [
    "dependents_frequency_chart.figure.savefig(os.path.join(path, '04 Analysis','Visualizations', 'dependents_frequency_chart.png'))"
   ]
  },
  {
   "cell_type": "code",
   "execution_count": 114,
   "id": "bf0f89dc",
   "metadata": {},
   "outputs": [
    {
     "data": {
      "text/plain": [
       "Text(0.5, 1.0, 'Age vs Income')"
      ]
     },
     "execution_count": 114,
     "metadata": {},
     "output_type": "execute_result"
    },
    {
     "data": {
      "image/png": "[encoded data removed]",
      "text/plain": [
       "<Figure size 432x288 with 1 Axes>"
      ]
     },
     "metadata": {
      "needs_background": "light"
     },
     "output_type": "display_data"
    }
   ],
   "source": [
    "scatter_age_income = sns.scatterplot(x = 'age', y = 'income',data = orders_prods_custs_merge_depts)\n",
    "\n",
    "plt.title('Age vs Income')\n"
   ]
  },
  {
   "cell_type": "code",
   "execution_count": 115,
   "id": "2aca2e3b",
   "metadata": {},
   "outputs": [],
   "source": [
    "scatter_age_income.figure.savefig(os.path.join(path, '04 Analysis','Visualizations', 'scatter_age_income_chart.png'))"
   ]
  },
  {
   "cell_type": "code",
   "execution_count": 117,
   "id": "5d34652f",
   "metadata": {},
   "outputs": [],
   "source": [
    "dependents_time = pd.crosstab(orders_prods_custs_merge_depts['order_hour_of_day'], orders_prods_custs_merge_depts['number_of_dependents'], dropna = False)"
   ]
  },
  {
   "cell_type": "code",
   "execution_count": 118,
   "id": "d92284fd",
   "metadata": {},
   "outputs": [
    {
     "data": {
      "text/plain": [
       "Text(0, 0.5, 'number of orders')"
      ]
     },
     "execution_count": 118,
     "metadata": {},
     "output_type": "execute_result"
    },
    {
     "data": {
      "image/png": "[encoded data removed]",
      "text/plain": [
       "<Figure size 432x288 with 1 Axes>"
      ]
     },
     "metadata": {
      "needs_background": "light"
     },
     "output_type": "display_data"
    }
   ],
   "source": [
    "dependents_time = dependents_time.plot.bar()\n",
    "\n",
    "plt.title('Family Status vs Order Hour of Day')\n",
    "\n",
    "plt.ylabel(\"number of orders\")"
   ]
  },
  {
   "cell_type": "code",
   "execution_count": 119,
   "id": "357ab5f7",
   "metadata": {},
   "outputs": [],
   "source": [
    "dependents_time.figure.savefig(os.path.join(path, '04 Analysis','Visualizations', 'dependents_time_chart.png'))"
   ]
  },
  {
   "cell_type": "code",
   "execution_count": 120,
   "id": "743bbf0b",
   "metadata": {},
   "outputs": [],
   "source": [
    "# Export data\n",
    "\n",
    "orders_prods_custs_merge_depts.to_pickle(os.path.join(path, '02 Data','Prepared Data', 'orders_prods_custs_merge_depts.pkl'))"
   ]
  },
  {
   "cell_type": "code",
   "execution_count": null,
   "id": "8985b05a",
   "metadata": {},
   "outputs": [],
   "source": []
  }
 ],
 "metadata": {
  "kernelspec": {
   "display_name": "Python 3 (ipykernel)",
   "language": "python",
   "name": "python3"
  },
  "language_info": {
   "codemirror_mode": {
    "name": "ipython",
    "version": 3
   },
   "file_extension": ".py",
   "mimetype": "text/x-python",
   "name": "python",
   "nbconvert_exporter": "python",
   "pygments_lexer": "ipython3",
   "version": "3.9.7"
  }
 },
 "nbformat": 4,
 "nbformat_minor": 5
}
