{
 "cells": [
  {
   "cell_type": "markdown",
   "id": "9058359f",
   "metadata": {},
   "source": [
    "#  Jupyter Fundamentals & Python Data Types\n",
    "\n",
    "### Contents: learning data types"
   ]
  },
  {
   "cell_type": "code",
   "execution_count": 1,
   "id": "4bdb08b9",
   "metadata": {},
   "outputs": [],
   "source": [
    "# Import libraries\n",
    "\n",
    "import pandas as pd\n",
    "import numpy as np\n",
    "import os"
   ]
  },
  {
   "cell_type": "markdown",
   "id": "0e71b21e",
   "metadata": {},
   "source": [
    "# Python data Types"
   ]
  },
  {
   "cell_type": "code",
   "execution_count": 2,
   "id": "ac3d2a68",
   "metadata": {},
   "outputs": [],
   "source": [
    "a = 50"
   ]
  },
  {
   "cell_type": "code",
   "execution_count": 3,
   "id": "f46df83b",
   "metadata": {},
   "outputs": [],
   "source": [
    "b = 2"
   ]
  },
  {
   "cell_type": "code",
   "execution_count": 4,
   "id": "02139399",
   "metadata": {},
   "outputs": [],
   "source": [
    "c = 25"
   ]
  },
  {
   "cell_type": "code",
   "execution_count": 5,
   "id": "592dd2c2",
   "metadata": {},
   "outputs": [],
   "source": [
    "d = 75"
   ]
  },
  {
   "cell_type": "code",
   "execution_count": 6,
   "id": "ee8fed2b",
   "metadata": {},
   "outputs": [
    {
     "data": {
      "text/plain": [
       "100"
      ]
     },
     "execution_count": 6,
     "metadata": {},
     "output_type": "execute_result"
    }
   ],
   "source": [
    "# Addition and multiplication\n",
    "\n",
    "a + b * c"
   ]
  },
  {
   "cell_type": "code",
   "execution_count": 7,
   "id": "c2aca25e",
   "metadata": {},
   "outputs": [
    {
     "data": {
      "text/plain": [
       "100"
      ]
     },
     "execution_count": 7,
     "metadata": {},
     "output_type": "execute_result"
    }
   ],
   "source": [
    "# Addition\n",
    "\n",
    "c + d"
   ]
  },
  {
   "cell_type": "code",
   "execution_count": 8,
   "id": "ecc26d49",
   "metadata": {},
   "outputs": [
    {
     "data": {
      "text/plain": [
       "100"
      ]
     },
     "execution_count": 8,
     "metadata": {},
     "output_type": "execute_result"
    }
   ],
   "source": [
    "# Subtraction and Addition\n",
    "\n",
    "d - c + a"
   ]
  },
  {
   "cell_type": "code",
   "execution_count": 9,
   "id": "35b831f5",
   "metadata": {},
   "outputs": [
    {
     "data": {
      "text/plain": [
       "100"
      ]
     },
     "execution_count": 9,
     "metadata": {},
     "output_type": "execute_result"
    }
   ],
   "source": [
    "# Mulitiplication\n",
    "\n",
    "a * b"
   ]
  },
  {
   "cell_type": "code",
   "execution_count": 10,
   "id": "5dc64660",
   "metadata": {},
   "outputs": [
    {
     "data": {
      "text/plain": [
       "100"
      ]
     },
     "execution_count": 10,
     "metadata": {},
     "output_type": "execute_result"
    }
   ],
   "source": [
    "# Addition and Subtraction\n",
    "\n",
    "a + d - c"
   ]
  },
  {
   "cell_type": "code",
   "execution_count": 11,
   "id": "80fb2d1f",
   "metadata": {},
   "outputs": [
    {
     "data": {
      "text/plain": [
       "100.0"
      ]
     },
     "execution_count": 11,
     "metadata": {},
     "output_type": "execute_result"
    }
   ],
   "source": [
    "# Division and Addition\n",
    "\n",
    "a / b + d"
   ]
  },
  {
   "cell_type": "code",
   "execution_count": 12,
   "id": "ff808793",
   "metadata": {},
   "outputs": [],
   "source": [
    "x = 3.756"
   ]
  },
  {
   "cell_type": "code",
   "execution_count": 13,
   "id": "f3e500a0",
   "metadata": {},
   "outputs": [],
   "source": [
    "y = 1.259"
   ]
  },
  {
   "cell_type": "code",
   "execution_count": 14,
   "id": "08bf9419",
   "metadata": {},
   "outputs": [
    {
     "data": {
      "text/plain": [
       "2.9833200953137413"
      ]
     },
     "execution_count": 14,
     "metadata": {},
     "output_type": "execute_result"
    }
   ],
   "source": [
    "# Division\n",
    "\n",
    "x / y"
   ]
  },
  {
   "cell_type": "code",
   "execution_count": 15,
   "id": "f6164864",
   "metadata": {},
   "outputs": [],
   "source": [
    "m = 'not'"
   ]
  },
  {
   "cell_type": "code",
   "execution_count": 16,
   "id": "8cfb62b2",
   "metadata": {},
   "outputs": [],
   "source": [
    "n = 'hing'"
   ]
  },
  {
   "cell_type": "code",
   "execution_count": 17,
   "id": "1f577c8a",
   "metadata": {},
   "outputs": [],
   "source": [
    "o = ' is'"
   ]
  },
  {
   "cell_type": "code",
   "execution_count": 18,
   "id": "c1165be7",
   "metadata": {},
   "outputs": [],
   "source": [
    "p = ' imposs'"
   ]
  },
  {
   "cell_type": "code",
   "execution_count": 19,
   "id": "08e1c0de",
   "metadata": {},
   "outputs": [],
   "source": [
    "q = 'ible'"
   ]
  },
  {
   "cell_type": "code",
   "execution_count": 20,
   "id": "75d384de",
   "metadata": {},
   "outputs": [
    {
     "data": {
      "text/plain": [
       "'nothing'"
      ]
     },
     "execution_count": 20,
     "metadata": {},
     "output_type": "execute_result"
    }
   ],
   "source": [
    "m + n"
   ]
  },
  {
   "cell_type": "code",
   "execution_count": 21,
   "id": "454b6188",
   "metadata": {},
   "outputs": [
    {
     "data": {
      "text/plain": [
       "' impossible'"
      ]
     },
     "execution_count": 21,
     "metadata": {},
     "output_type": "execute_result"
    }
   ],
   "source": [
    "p + q"
   ]
  },
  {
   "cell_type": "code",
   "execution_count": 22,
   "id": "44efed63",
   "metadata": {},
   "outputs": [
    {
     "data": {
      "text/plain": [
       "'nothing is impossible'"
      ]
     },
     "execution_count": 22,
     "metadata": {},
     "output_type": "execute_result"
    }
   ],
   "source": [
    "m + n + o + p + q"
   ]
  },
  {
   "cell_type": "code",
   "execution_count": 23,
   "id": "4b08d3ec",
   "metadata": {},
   "outputs": [],
   "source": [
    "g = 'welcome '"
   ]
  },
  {
   "cell_type": "code",
   "execution_count": 24,
   "id": "d509594d",
   "metadata": {},
   "outputs": [],
   "source": [
    "h = 'to '"
   ]
  },
  {
   "cell_type": "code",
   "execution_count": 25,
   "id": "5768a481",
   "metadata": {},
   "outputs": [],
   "source": [
    "i = 'the '"
   ]
  },
  {
   "cell_type": "code",
   "execution_count": 26,
   "id": "f311fbc1",
   "metadata": {},
   "outputs": [],
   "source": [
    "j = 'of '"
   ]
  },
  {
   "cell_type": "code",
   "execution_count": 27,
   "id": "22dcb5df",
   "metadata": {},
   "outputs": [],
   "source": [
    "k = 'Python'"
   ]
  },
  {
   "cell_type": "code",
   "execution_count": 28,
   "id": "ac61cd0f",
   "metadata": {},
   "outputs": [
    {
     "data": {
      "text/plain": [
       "'welcome to the of Python'"
      ]
     },
     "execution_count": 28,
     "metadata": {},
     "output_type": "execute_result"
    }
   ],
   "source": [
    "g + h + i + j + k"
   ]
  },
  {
   "cell_type": "code",
   "execution_count": null,
   "id": "6c22e879",
   "metadata": {},
   "outputs": [],
   "source": []
  }
 ],
 "metadata": {
  "kernelspec": {
   "display_name": "Python 3 (ipykernel)",
   "language": "python",
   "name": "python3"
  },
  "language_info": {
   "codemirror_mode": {
    "name": "ipython",
    "version": 3
   },
   "file_extension": ".py",
   "mimetype": "text/x-python",
   "name": "python",
   "nbconvert_exporter": "python",
   "pygments_lexer": "ipython3",
   "version": "3.9.7"
  }
 },
 "nbformat": 4,
 "nbformat_minor": 5
}
