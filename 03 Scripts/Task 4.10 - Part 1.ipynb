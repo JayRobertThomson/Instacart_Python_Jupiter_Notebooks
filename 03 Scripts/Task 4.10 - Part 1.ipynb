{
 "cells": [
  {
   "cell_type": "markdown",
   "id": "19d4e397",
   "metadata": {},
   "source": [
    "# Coding Etiquette & Excel Reporting\n",
    "## Content: "
   ]
  },
  {
   "cell_type": "code",
   "execution_count": 1,
   "id": "803010cb",
   "metadata": {},
   "outputs": [],
   "source": [
    "# Import libraries\n",
    "\n",
    "import pandas as pd\n",
    "import numpy as np\n",
    "import os\n",
    "import matplotlib.pyplot as plt\n",
    "import seaborn as sns\n",
    "import scipy"
   ]
  },
  {
   "cell_type": "code",
   "execution_count": 2,
   "id": "83db4e5f",
   "metadata": {},
   "outputs": [],
   "source": [
    "#Import orders_products_customers_merged df\n",
    "\n",
    "orders_prods_custs_merge = pd.read_pickle (r\"C:\\Users\\thoms\\Desktop\\Data Analytics\\Achievement 4\\Instacart Basket Analysis\\02 Data\\Prepared Data\\orders_products_customers_merged.pkl\")"
   ]
  },
  {
   "cell_type": "code",
   "execution_count": 3,
   "id": "3d733c3b",
   "metadata": {},
   "outputs": [],
   "source": [
    "# Create path\n",
    "\n",
    "path = r'C:\\Users\\thoms\\Desktop\\Data Analytics\\Achievement 4\\Instacart Basket Analysis'"
   ]
  },
  {
   "cell_type": "code",
   "execution_count": 4,
   "id": "d1348869",
   "metadata": {},
   "outputs": [
    {
     "data": {
      "text/html": [
       "<div>\n",
       "<style scoped>\n",
       "    .dataframe tbody tr th:only-of-type {\n",
       "        vertical-align: middle;\n",
       "    }\n",
       "\n",
       "    .dataframe tbody tr th {\n",
       "        vertical-align: top;\n",
       "    }\n",
       "\n",
       "    .dataframe thead th {\n",
       "        text-align: right;\n",
       "    }\n",
       "</style>\n",
       "<table border=\"1\" class=\"dataframe\">\n",
       "  <thead>\n",
       "    <tr style=\"text-align: right;\">\n",
       "      <th></th>\n",
       "      <th>order_id</th>\n",
       "      <th>user_id</th>\n",
       "      <th>eval_set</th>\n",
       "      <th>order_number</th>\n",
       "      <th>order_dow</th>\n",
       "      <th>order_hour_of_day</th>\n",
       "      <th>days_since_prior_order</th>\n",
       "      <th>product_id</th>\n",
       "      <th>add_to_cart_order</th>\n",
       "      <th>reordered</th>\n",
       "      <th>...</th>\n",
       "      <th>frequency_flag</th>\n",
       "      <th>first_name</th>\n",
       "      <th>surname</th>\n",
       "      <th>gender</th>\n",
       "      <th>state</th>\n",
       "      <th>age</th>\n",
       "      <th>date_joined</th>\n",
       "      <th>number_of_dependents</th>\n",
       "      <th>family_status</th>\n",
       "      <th>income</th>\n",
       "    </tr>\n",
       "  </thead>\n",
       "  <tbody>\n",
       "    <tr>\n",
       "      <th>0</th>\n",
       "      <td>2539329</td>\n",
       "      <td>1</td>\n",
       "      <td>prior</td>\n",
       "      <td>1</td>\n",
       "      <td>2</td>\n",
       "      <td>8</td>\n",
       "      <td>NaN</td>\n",
       "      <td>196.0</td>\n",
       "      <td>1.0</td>\n",
       "      <td>0.0</td>\n",
       "      <td>...</td>\n",
       "      <td>Non frequent customer</td>\n",
       "      <td>Linda</td>\n",
       "      <td>Nguyen</td>\n",
       "      <td>Female</td>\n",
       "      <td>Alabama</td>\n",
       "      <td>31</td>\n",
       "      <td>2/17/2019</td>\n",
       "      <td>3</td>\n",
       "      <td>married</td>\n",
       "      <td>40423</td>\n",
       "    </tr>\n",
       "    <tr>\n",
       "      <th>1</th>\n",
       "      <td>2539329</td>\n",
       "      <td>1</td>\n",
       "      <td>prior</td>\n",
       "      <td>1</td>\n",
       "      <td>2</td>\n",
       "      <td>8</td>\n",
       "      <td>NaN</td>\n",
       "      <td>14084.0</td>\n",
       "      <td>2.0</td>\n",
       "      <td>0.0</td>\n",
       "      <td>...</td>\n",
       "      <td>Non frequent customer</td>\n",
       "      <td>Linda</td>\n",
       "      <td>Nguyen</td>\n",
       "      <td>Female</td>\n",
       "      <td>Alabama</td>\n",
       "      <td>31</td>\n",
       "      <td>2/17/2019</td>\n",
       "      <td>3</td>\n",
       "      <td>married</td>\n",
       "      <td>40423</td>\n",
       "    </tr>\n",
       "    <tr>\n",
       "      <th>2</th>\n",
       "      <td>2539329</td>\n",
       "      <td>1</td>\n",
       "      <td>prior</td>\n",
       "      <td>1</td>\n",
       "      <td>2</td>\n",
       "      <td>8</td>\n",
       "      <td>NaN</td>\n",
       "      <td>12427.0</td>\n",
       "      <td>3.0</td>\n",
       "      <td>0.0</td>\n",
       "      <td>...</td>\n",
       "      <td>Non frequent customer</td>\n",
       "      <td>Linda</td>\n",
       "      <td>Nguyen</td>\n",
       "      <td>Female</td>\n",
       "      <td>Alabama</td>\n",
       "      <td>31</td>\n",
       "      <td>2/17/2019</td>\n",
       "      <td>3</td>\n",
       "      <td>married</td>\n",
       "      <td>40423</td>\n",
       "    </tr>\n",
       "    <tr>\n",
       "      <th>3</th>\n",
       "      <td>2539329</td>\n",
       "      <td>1</td>\n",
       "      <td>prior</td>\n",
       "      <td>1</td>\n",
       "      <td>2</td>\n",
       "      <td>8</td>\n",
       "      <td>NaN</td>\n",
       "      <td>26088.0</td>\n",
       "      <td>4.0</td>\n",
       "      <td>0.0</td>\n",
       "      <td>...</td>\n",
       "      <td>Non frequent customer</td>\n",
       "      <td>Linda</td>\n",
       "      <td>Nguyen</td>\n",
       "      <td>Female</td>\n",
       "      <td>Alabama</td>\n",
       "      <td>31</td>\n",
       "      <td>2/17/2019</td>\n",
       "      <td>3</td>\n",
       "      <td>married</td>\n",
       "      <td>40423</td>\n",
       "    </tr>\n",
       "    <tr>\n",
       "      <th>4</th>\n",
       "      <td>2539329</td>\n",
       "      <td>1</td>\n",
       "      <td>prior</td>\n",
       "      <td>1</td>\n",
       "      <td>2</td>\n",
       "      <td>8</td>\n",
       "      <td>NaN</td>\n",
       "      <td>26405.0</td>\n",
       "      <td>5.0</td>\n",
       "      <td>0.0</td>\n",
       "      <td>...</td>\n",
       "      <td>Non frequent customer</td>\n",
       "      <td>Linda</td>\n",
       "      <td>Nguyen</td>\n",
       "      <td>Female</td>\n",
       "      <td>Alabama</td>\n",
       "      <td>31</td>\n",
       "      <td>2/17/2019</td>\n",
       "      <td>3</td>\n",
       "      <td>married</td>\n",
       "      <td>40423</td>\n",
       "    </tr>\n",
       "  </tbody>\n",
       "</table>\n",
       "<p>5 rows × 34 columns</p>\n",
       "</div>"
      ],
      "text/plain": [
       "   order_id  user_id eval_set  order_number  order_dow  order_hour_of_day  \\\n",
       "0   2539329        1    prior             1          2                  8   \n",
       "1   2539329        1    prior             1          2                  8   \n",
       "2   2539329        1    prior             1          2                  8   \n",
       "3   2539329        1    prior             1          2                  8   \n",
       "4   2539329        1    prior             1          2                  8   \n",
       "\n",
       "   days_since_prior_order  product_id  add_to_cart_order  reordered  ...  \\\n",
       "0                     NaN       196.0                1.0        0.0  ...   \n",
       "1                     NaN     14084.0                2.0        0.0  ...   \n",
       "2                     NaN     12427.0                3.0        0.0  ...   \n",
       "3                     NaN     26088.0                4.0        0.0  ...   \n",
       "4                     NaN     26405.0                5.0        0.0  ...   \n",
       "\n",
       "          frequency_flag  first_name  surname  gender    state age  \\\n",
       "0  Non frequent customer       Linda   Nguyen  Female  Alabama  31   \n",
       "1  Non frequent customer       Linda   Nguyen  Female  Alabama  31   \n",
       "2  Non frequent customer       Linda   Nguyen  Female  Alabama  31   \n",
       "3  Non frequent customer       Linda   Nguyen  Female  Alabama  31   \n",
       "4  Non frequent customer       Linda   Nguyen  Female  Alabama  31   \n",
       "\n",
       "  date_joined number_of_dependents family_status  income  \n",
       "0   2/17/2019                    3       married   40423  \n",
       "1   2/17/2019                    3       married   40423  \n",
       "2   2/17/2019                    3       married   40423  \n",
       "3   2/17/2019                    3       married   40423  \n",
       "4   2/17/2019                    3       married   40423  \n",
       "\n",
       "[5 rows x 34 columns]"
      ]
     },
     "execution_count": 4,
     "metadata": {},
     "output_type": "execute_result"
    }
   ],
   "source": [
    "orders_prods_custs_merge.head()"
   ]
  },
  {
   "cell_type": "markdown",
   "id": "f8c7e5d1",
   "metadata": {},
   "source": [
    "# Question 2: \n",
    "## Consider any security implications that might exist for this new data. You’ll need to address any PII data in the data before continuing your analysis."
   ]
  },
  {
   "cell_type": "markdown",
   "id": "dae786bb",
   "metadata": {},
   "source": [
    "### There is a security risk with all customers and their sensitive data. This would be something to talk to a senior consultant about but I believe the names and the address columns should be delete, as this data is not nessacery for making the analysis needed by the customer as per the brief. However, in say that we definitely have to keep the states is important when looking at the region from where the customer comes from. "
   ]
  },
  {
   "cell_type": "markdown",
   "id": "a4772939",
   "metadata": {},
   "source": [
    "# Question 3: The Instacart officers are interested in comparing customer behavior in different geographic areas. Create a regional segmentation of the data. You’ll need to create a “Region” column based on the “State” column from your customers data set.\n",
    "## Use the region information in this Wikipedia article to create your column (you only need to create regions, not divisions).\n",
    "## Determine whether there’s a difference in spending habits between the different U.S. regions. (Hint: You can do this by crossing the variable you just created with the spending flag.)"
   ]
  },
  {
   "cell_type": "code",
   "execution_count": 5,
   "id": "47911297",
   "metadata": {},
   "outputs": [
    {
     "data": {
      "text/plain": [
       "Pennsylvania            667082\n",
       "California              659783\n",
       "Rhode Island            656913\n",
       "Georgia                 656389\n",
       "New Mexico              654494\n",
       "Arizona                 653964\n",
       "North Carolina          651900\n",
       "Oklahoma                651739\n",
       "Alaska                  648495\n",
       "Minnesota               647825\n",
       "Massachusetts           646358\n",
       "Wyoming                 644255\n",
       "Virginia                641421\n",
       "Missouri                640732\n",
       "Texas                   640394\n",
       "Colorado                639280\n",
       "Maine                   638583\n",
       "North Dakota            638491\n",
       "Alabama                 638003\n",
       "Kansas                  637538\n",
       "Louisiana               637482\n",
       "Delaware                637024\n",
       "South Carolina          636754\n",
       "Oregon                  636425\n",
       "Arkansas                636144\n",
       "Nevada                  636139\n",
       "New York                635983\n",
       "Montana                 635265\n",
       "South Dakota            633772\n",
       "Illinois                633024\n",
       "Hawaii                  632901\n",
       "Washington              632852\n",
       "Mississippi             632675\n",
       "Kentucky                632490\n",
       "Michigan                630928\n",
       "Florida                 629027\n",
       "Ohio                    628319\n",
       "Wisconsin               628108\n",
       "New Jersey              627692\n",
       "Indiana                 627282\n",
       "Maryland                626579\n",
       "Nebraska                625813\n",
       "Iowa                    625493\n",
       "Connecticut             623022\n",
       "Tennessee               617873\n",
       "New Hampshire           615378\n",
       "District of Columbia    613695\n",
       "West Virginia           612296\n",
       "Utah                    611941\n",
       "Vermont                 611725\n",
       "Idaho                   607119\n",
       "Name: state, dtype: int64"
      ]
     },
     "execution_count": 5,
     "metadata": {},
     "output_type": "execute_result"
    }
   ],
   "source": [
    "# show all states of the df\n",
    "\n",
    "orders_prods_custs_merge['state'].value_counts(dropna = False)"
   ]
  },
  {
   "cell_type": "code",
   "execution_count": 6,
   "id": "98b640ec",
   "metadata": {},
   "outputs": [],
   "source": [
    "# Create groups of states in a region using if statement. \n",
    "\n",
    "region = []\n",
    "\n",
    "for value in orders_prods_custs_merge['state']:\n",
    "    if (value in ['Maine', 'New Hampshire', 'Vermont', 'Massachusetts', 'Rhode Island', 'Connecticut', 'New York', 'Pennsylvania', 'New Jersey']):\n",
    "        region.append('Northeast')\n",
    "    elif (value in ['Wisconsin', 'Michigan', 'Illinois', 'Indiana', 'Ohio', 'North Dakota', 'South Dakota', 'Nebraska', 'Kansas', 'Minnesota', 'Iowa', 'Missouri']):\n",
    "        region.append('Midwest')\n",
    "    elif (value in ['Delaware', 'Maryland', 'District of Columbia', 'Virginia', 'West Virginia', 'North Carolina', 'South Carolina', 'Georgia', 'Florida', 'Kentucky', 'Tennessee', 'Mississippi', 'Alabama', 'Oklahoma', 'Texas', 'Arkansas', 'Louisiana']):\n",
    "        region.append('South')\n",
    "    else:\n",
    "        region.append('West')"
   ]
  },
  {
   "cell_type": "code",
   "execution_count": 7,
   "id": "b957609c",
   "metadata": {},
   "outputs": [],
   "source": [
    "# create column region\n",
    "\n",
    "orders_prods_custs_merge['region'] = region"
   ]
  },
  {
   "cell_type": "code",
   "execution_count": 8,
   "id": "64af6e89",
   "metadata": {},
   "outputs": [
    {
     "data": {
      "text/plain": [
       "South        10791885\n",
       "West          8292913\n",
       "Midwest       7597325\n",
       "Northeast     5722736\n",
       "Name: region, dtype: int64"
      ]
     },
     "execution_count": 8,
     "metadata": {},
     "output_type": "execute_result"
    }
   ],
   "source": [
    "# check regions\n",
    "\n",
    "orders_prods_custs_merge['region'].value_counts(dropna = False)"
   ]
  },
  {
   "cell_type": "code",
   "execution_count": 10,
   "id": "bbc8681a",
   "metadata": {},
   "outputs": [
    {
     "data": {
      "text/html": [
       "<div>\n",
       "<style scoped>\n",
       "    .dataframe tbody tr th:only-of-type {\n",
       "        vertical-align: middle;\n",
       "    }\n",
       "\n",
       "    .dataframe tbody tr th {\n",
       "        vertical-align: top;\n",
       "    }\n",
       "\n",
       "    .dataframe thead th {\n",
       "        text-align: right;\n",
       "    }\n",
       "</style>\n",
       "<table border=\"1\" class=\"dataframe\">\n",
       "  <thead>\n",
       "    <tr style=\"text-align: right;\">\n",
       "      <th></th>\n",
       "      <th>order_id</th>\n",
       "      <th>user_id</th>\n",
       "      <th>eval_set</th>\n",
       "      <th>order_number</th>\n",
       "      <th>order_dow</th>\n",
       "      <th>order_hour_of_day</th>\n",
       "      <th>days_since_prior_order</th>\n",
       "      <th>product_id</th>\n",
       "      <th>add_to_cart_order</th>\n",
       "      <th>reordered</th>\n",
       "      <th>...</th>\n",
       "      <th>first_name</th>\n",
       "      <th>surname</th>\n",
       "      <th>gender</th>\n",
       "      <th>state</th>\n",
       "      <th>age</th>\n",
       "      <th>date_joined</th>\n",
       "      <th>number_of_dependents</th>\n",
       "      <th>family_status</th>\n",
       "      <th>income</th>\n",
       "      <th>region</th>\n",
       "    </tr>\n",
       "  </thead>\n",
       "  <tbody>\n",
       "    <tr>\n",
       "      <th>0</th>\n",
       "      <td>2539329</td>\n",
       "      <td>1</td>\n",
       "      <td>prior</td>\n",
       "      <td>1</td>\n",
       "      <td>2</td>\n",
       "      <td>8</td>\n",
       "      <td>NaN</td>\n",
       "      <td>196.0</td>\n",
       "      <td>1.0</td>\n",
       "      <td>0.0</td>\n",
       "      <td>...</td>\n",
       "      <td>Linda</td>\n",
       "      <td>Nguyen</td>\n",
       "      <td>Female</td>\n",
       "      <td>Alabama</td>\n",
       "      <td>31</td>\n",
       "      <td>2/17/2019</td>\n",
       "      <td>3</td>\n",
       "      <td>married</td>\n",
       "      <td>40423</td>\n",
       "      <td>South</td>\n",
       "    </tr>\n",
       "    <tr>\n",
       "      <th>1</th>\n",
       "      <td>2539329</td>\n",
       "      <td>1</td>\n",
       "      <td>prior</td>\n",
       "      <td>1</td>\n",
       "      <td>2</td>\n",
       "      <td>8</td>\n",
       "      <td>NaN</td>\n",
       "      <td>14084.0</td>\n",
       "      <td>2.0</td>\n",
       "      <td>0.0</td>\n",
       "      <td>...</td>\n",
       "      <td>Linda</td>\n",
       "      <td>Nguyen</td>\n",
       "      <td>Female</td>\n",
       "      <td>Alabama</td>\n",
       "      <td>31</td>\n",
       "      <td>2/17/2019</td>\n",
       "      <td>3</td>\n",
       "      <td>married</td>\n",
       "      <td>40423</td>\n",
       "      <td>South</td>\n",
       "    </tr>\n",
       "    <tr>\n",
       "      <th>2</th>\n",
       "      <td>2539329</td>\n",
       "      <td>1</td>\n",
       "      <td>prior</td>\n",
       "      <td>1</td>\n",
       "      <td>2</td>\n",
       "      <td>8</td>\n",
       "      <td>NaN</td>\n",
       "      <td>12427.0</td>\n",
       "      <td>3.0</td>\n",
       "      <td>0.0</td>\n",
       "      <td>...</td>\n",
       "      <td>Linda</td>\n",
       "      <td>Nguyen</td>\n",
       "      <td>Female</td>\n",
       "      <td>Alabama</td>\n",
       "      <td>31</td>\n",
       "      <td>2/17/2019</td>\n",
       "      <td>3</td>\n",
       "      <td>married</td>\n",
       "      <td>40423</td>\n",
       "      <td>South</td>\n",
       "    </tr>\n",
       "    <tr>\n",
       "      <th>3</th>\n",
       "      <td>2539329</td>\n",
       "      <td>1</td>\n",
       "      <td>prior</td>\n",
       "      <td>1</td>\n",
       "      <td>2</td>\n",
       "      <td>8</td>\n",
       "      <td>NaN</td>\n",
       "      <td>26088.0</td>\n",
       "      <td>4.0</td>\n",
       "      <td>0.0</td>\n",
       "      <td>...</td>\n",
       "      <td>Linda</td>\n",
       "      <td>Nguyen</td>\n",
       "      <td>Female</td>\n",
       "      <td>Alabama</td>\n",
       "      <td>31</td>\n",
       "      <td>2/17/2019</td>\n",
       "      <td>3</td>\n",
       "      <td>married</td>\n",
       "      <td>40423</td>\n",
       "      <td>South</td>\n",
       "    </tr>\n",
       "    <tr>\n",
       "      <th>4</th>\n",
       "      <td>2539329</td>\n",
       "      <td>1</td>\n",
       "      <td>prior</td>\n",
       "      <td>1</td>\n",
       "      <td>2</td>\n",
       "      <td>8</td>\n",
       "      <td>NaN</td>\n",
       "      <td>26405.0</td>\n",
       "      <td>5.0</td>\n",
       "      <td>0.0</td>\n",
       "      <td>...</td>\n",
       "      <td>Linda</td>\n",
       "      <td>Nguyen</td>\n",
       "      <td>Female</td>\n",
       "      <td>Alabama</td>\n",
       "      <td>31</td>\n",
       "      <td>2/17/2019</td>\n",
       "      <td>3</td>\n",
       "      <td>married</td>\n",
       "      <td>40423</td>\n",
       "      <td>South</td>\n",
       "    </tr>\n",
       "  </tbody>\n",
       "</table>\n",
       "<p>5 rows × 35 columns</p>\n",
       "</div>"
      ],
      "text/plain": [
       "   order_id  user_id eval_set  order_number  order_dow  order_hour_of_day  \\\n",
       "0   2539329        1    prior             1          2                  8   \n",
       "1   2539329        1    prior             1          2                  8   \n",
       "2   2539329        1    prior             1          2                  8   \n",
       "3   2539329        1    prior             1          2                  8   \n",
       "4   2539329        1    prior             1          2                  8   \n",
       "\n",
       "   days_since_prior_order  product_id  add_to_cart_order  reordered  ...  \\\n",
       "0                     NaN       196.0                1.0        0.0  ...   \n",
       "1                     NaN     14084.0                2.0        0.0  ...   \n",
       "2                     NaN     12427.0                3.0        0.0  ...   \n",
       "3                     NaN     26088.0                4.0        0.0  ...   \n",
       "4                     NaN     26405.0                5.0        0.0  ...   \n",
       "\n",
       "  first_name  surname  gender    state age date_joined number_of_dependents  \\\n",
       "0      Linda   Nguyen  Female  Alabama  31   2/17/2019                    3   \n",
       "1      Linda   Nguyen  Female  Alabama  31   2/17/2019                    3   \n",
       "2      Linda   Nguyen  Female  Alabama  31   2/17/2019                    3   \n",
       "3      Linda   Nguyen  Female  Alabama  31   2/17/2019                    3   \n",
       "4      Linda   Nguyen  Female  Alabama  31   2/17/2019                    3   \n",
       "\n",
       "  family_status income  region  \n",
       "0       married  40423   South  \n",
       "1       married  40423   South  \n",
       "2       married  40423   South  \n",
       "3       married  40423   South  \n",
       "4       married  40423   South  \n",
       "\n",
       "[5 rows x 35 columns]"
      ]
     },
     "execution_count": 10,
     "metadata": {},
     "output_type": "execute_result"
    }
   ],
   "source": [
    "# check region column\n",
    "\n",
    "orders_prods_custs_merge.head()"
   ]
  },
  {
   "cell_type": "code",
   "execution_count": 11,
   "id": "fceae947",
   "metadata": {},
   "outputs": [],
   "source": [
    "crosstab = pd.crosstab(orders_prods_custs_merge['region'], orders_prods_custs_merge['spending_flag'], dropna = False)"
   ]
  },
  {
   "cell_type": "code",
   "execution_count": 12,
   "id": "4c66adfe",
   "metadata": {},
   "outputs": [
    {
     "data": {
      "text/html": [
       "<div>\n",
       "<style scoped>\n",
       "    .dataframe tbody tr th:only-of-type {\n",
       "        vertical-align: middle;\n",
       "    }\n",
       "\n",
       "    .dataframe tbody tr th {\n",
       "        vertical-align: top;\n",
       "    }\n",
       "\n",
       "    .dataframe thead th {\n",
       "        text-align: right;\n",
       "    }\n",
       "</style>\n",
       "<table border=\"1\" class=\"dataframe\">\n",
       "  <thead>\n",
       "    <tr style=\"text-align: right;\">\n",
       "      <th>spending_flag</th>\n",
       "      <th>Higher Spender</th>\n",
       "      <th>Low spender</th>\n",
       "    </tr>\n",
       "    <tr>\n",
       "      <th>region</th>\n",
       "      <th></th>\n",
       "      <th></th>\n",
       "    </tr>\n",
       "  </thead>\n",
       "  <tbody>\n",
       "    <tr>\n",
       "      <th>Midwest</th>\n",
       "      <td>8090</td>\n",
       "      <td>7589235</td>\n",
       "    </tr>\n",
       "    <tr>\n",
       "      <th>Northeast</th>\n",
       "      <td>5993</td>\n",
       "      <td>5716743</td>\n",
       "    </tr>\n",
       "    <tr>\n",
       "      <th>South</th>\n",
       "      <td>10357</td>\n",
       "      <td>10781528</td>\n",
       "    </tr>\n",
       "    <tr>\n",
       "      <th>West</th>\n",
       "      <td>9055</td>\n",
       "      <td>8283858</td>\n",
       "    </tr>\n",
       "  </tbody>\n",
       "</table>\n",
       "</div>"
      ],
      "text/plain": [
       "spending_flag  Higher Spender  Low spender\n",
       "region                                    \n",
       "Midwest                  8090      7589235\n",
       "Northeast                5993      5716743\n",
       "South                   10357     10781528\n",
       "West                     9055      8283858"
      ]
     },
     "execution_count": 12,
     "metadata": {},
     "output_type": "execute_result"
    }
   ],
   "source": [
    "crosstab"
   ]
  },
  {
   "cell_type": "markdown",
   "id": "4312b181",
   "metadata": {},
   "source": [
    "### Some reason my spending flag has not come out like it should \n",
    "\n"
   ]
  },
  {
   "cell_type": "markdown",
   "id": "75f50c76",
   "metadata": {},
   "source": [
    "# Question 4: The Instacart CFO isn’t interested in customers who don’t generate much revenue for the app. Create an exclusion flag for low-activity customers (customers with less than 5 orders) and exclude them from the data. Make sure you export this sample"
   ]
  },
  {
   "cell_type": "code",
   "execution_count": 14,
   "id": "c2396e6c",
   "metadata": {},
   "outputs": [],
   "source": [
    "# Create falg for low spending customer\n",
    "\n",
    "orders_prods_custs_merge.loc[orders_prods_custs_merge['max_order'] < 5, 'exclusion_flag'] = 'Low activity customer'"
   ]
  },
  {
   "cell_type": "code",
   "execution_count": 15,
   "id": "0bf0e15c",
   "metadata": {},
   "outputs": [],
   "source": [
    "orders_prods_custs_merge.loc[orders_prods_custs_merge['max_order'] >= 5, 'exclusion_flag'] = 'Normal activity customer'"
   ]
  },
  {
   "cell_type": "code",
   "execution_count": 16,
   "id": "fa899487",
   "metadata": {},
   "outputs": [
    {
     "data": {
      "text/plain": [
       "Normal activity customer    30964564\n",
       "Low activity customer        1440295\n",
       "Name: exclusion_flag, dtype: int64"
      ]
     },
     "execution_count": 16,
     "metadata": {},
     "output_type": "execute_result"
    }
   ],
   "source": [
    "orders_prods_custs_merge['exclusion_flag'].value_counts(dropna = False)"
   ]
  },
  {
   "cell_type": "code",
   "execution_count": 17,
   "id": "58c0fd20",
   "metadata": {},
   "outputs": [],
   "source": [
    "# create DF to exclude the low spending customer\n",
    "\n",
    "orders_prods_custs_merge_normal = orders_prods_custs_merge[orders_prods_custs_merge['exclusion_flag'] == 'Normal activity customer']"
   ]
  },
  {
   "cell_type": "code",
   "execution_count": 18,
   "id": "e6f44709",
   "metadata": {},
   "outputs": [
    {
     "data": {
      "text/plain": [
       "99    1171333\n",
       "8      811843\n",
       "6      811396\n",
       "9      810213\n",
       "7      803979\n",
       "       ...   \n",
       "93      50333\n",
       "90      48328\n",
       "97      44949\n",
       "98      44587\n",
       "96      40453\n",
       "Name: max_order, Length: 95, dtype: int64"
      ]
     },
     "execution_count": 18,
     "metadata": {},
     "output_type": "execute_result"
    }
   ],
   "source": [
    "orders_prods_custs_merge_normal['max_order'].value_counts(dropna = False)"
   ]
  },
  {
   "cell_type": "code",
   "execution_count": 19,
   "id": "63228422",
   "metadata": {},
   "outputs": [],
   "source": [
    "orders_prods_custs_merge_normal.to_pickle(os.path.join(path, '02 Data', 'Prepared Data', 'ords_prods_normal_activity.pkl'))"
   ]
  },
  {
   "cell_type": "markdown",
   "id": "70965988",
   "metadata": {},
   "source": [
    "# Question 5: The marketing and business strategy units at Instacart want to create more-relevant marketing strategies for different products and are, thus, curious about customer profiling in their database. Create a profiling variable based on age, income, certain goods in the “department_id” column, and number of dependents. You might also use the “orders_day_of_the_week” and “order_hour_of_day” columns if you can think of a way they would impact customer profiles. (Hint: As an example, try thinking of what characteristics would lead you to the profile “Single adult” or “Young parent.”)"
   ]
  },
  {
   "cell_type": "code",
   "execution_count": 20,
   "id": "0c570202",
   "metadata": {},
   "outputs": [
    {
     "data": {
      "text/plain": [
       "49    531360\n",
       "79    529742\n",
       "48    529728\n",
       "31    528551\n",
       "64    528009\n",
       "       ...  \n",
       "60    484416\n",
       "36    483812\n",
       "66    476219\n",
       "41    475225\n",
       "25    472188\n",
       "Name: age, Length: 64, dtype: int64"
      ]
     },
     "execution_count": 20,
     "metadata": {},
     "output_type": "execute_result"
    }
   ],
   "source": [
    "orders_prods_custs_merge['age'].value_counts()"
   ]
  },
  {
   "cell_type": "code",
   "execution_count": 21,
   "id": "08c4c3af",
   "metadata": {},
   "outputs": [
    {
     "data": {
      "text/plain": [
       "count    3.240486e+07\n",
       "mean     4.946527e+01\n",
       "std      1.848558e+01\n",
       "min      1.800000e+01\n",
       "25%      3.300000e+01\n",
       "50%      4.900000e+01\n",
       "75%      6.500000e+01\n",
       "max      8.100000e+01\n",
       "Name: age, dtype: float64"
      ]
     },
     "execution_count": 21,
     "metadata": {},
     "output_type": "execute_result"
    }
   ],
   "source": [
    "orders_prods_custs_merge['age'].describe()"
   ]
  },
  {
   "cell_type": "code",
   "execution_count": 22,
   "id": "b9b7d40c",
   "metadata": {},
   "outputs": [],
   "source": [
    "# the ages groups are set at \n",
    "# min age of 18 years old\n",
    "#average age of 49 years old\n",
    "# max age of 81 years old "
   ]
  },
  {
   "cell_type": "code",
   "execution_count": 23,
   "id": "15b7c1c3",
   "metadata": {},
   "outputs": [],
   "source": [
    "# Creating an 'age' list\n",
    "\n",
    "age_profile_list = []\n",
    "\n",
    "for value in orders_prods_custs_merge['age']:\n",
    "    if (value >= 18) and (value <= 24):\n",
    "        age_profile_list.append('18-24')\n",
    "    elif (value >= 25) and (value <= 34):\n",
    "        age_profile_list.append('25-34')\n",
    "    elif (value >= 35) and (value <= 44):\n",
    "        age_profile_list.append('35-44')\n",
    "    elif (value >= 45) and (value <= 54):\n",
    "        age_profile_list.append('45-54')\n",
    "    elif (value >= 55) and (value <= 64):\n",
    "        age_profile_list.append('55-64')\n",
    "    elif (value >= 65) and (value <= 74):\n",
    "        age_profile_list.append('65-74')\n",
    "    elif (value >= 75) and (value <= 84):\n",
    "        age_profile_list.append('75-84')\n",
    "    elif (value >= 85):\n",
    "        age_profile_list.append('85+')"
   ]
  },
  {
   "cell_type": "code",
   "execution_count": 24,
   "id": "0eb3ed2f",
   "metadata": {},
   "outputs": [],
   "source": [
    "# create age list column\n",
    "\n",
    "orders_prods_custs_merge['age_profile'] = age_profile_list"
   ]
  },
  {
   "cell_type": "code",
   "execution_count": 25,
   "id": "68d891c9",
   "metadata": {},
   "outputs": [
    {
     "data": {
      "text/plain": [
       "18-24    3573001\n",
       "25-34    5054654\n",
       "35-44    5062429\n",
       "45-54    5111126\n",
       "55-64    5028565\n",
       "65-74    5005001\n",
       "75-84    3570083\n",
       "Name: age_profile, dtype: int64"
      ]
     },
     "execution_count": 25,
     "metadata": {},
     "output_type": "execute_result"
    }
   ],
   "source": [
    "orders_prods_custs_merge['age_profile'].value_counts().sort_index()"
   ]
  },
  {
   "cell_type": "code",
   "execution_count": 26,
   "id": "552da3c8",
   "metadata": {},
   "outputs": [
    {
     "data": {
      "text/plain": [
       "count    3.240486e+07\n",
       "mean     9.943773e+04\n",
       "std      4.305727e+04\n",
       "min      2.590300e+04\n",
       "25%      6.700400e+04\n",
       "50%      9.661800e+04\n",
       "75%      1.279120e+05\n",
       "max      5.939010e+05\n",
       "Name: income, dtype: float64"
      ]
     },
     "execution_count": 26,
     "metadata": {},
     "output_type": "execute_result"
    }
   ],
   "source": [
    "orders_prods_custs_merge['income'].describe()"
   ]
  },
  {
   "cell_type": "code",
   "execution_count": 27,
   "id": "96b3375b",
   "metadata": {},
   "outputs": [],
   "source": [
    "# the ages groups are set at \n",
    "# min age of 25903\n",
    "#average age of  99437\n",
    "# max age of 59390"
   ]
  },
  {
   "cell_type": "code",
   "execution_count": 29,
   "id": "621f4c4a",
   "metadata": {},
   "outputs": [],
   "source": [
    "# Create 'income' list\n",
    "\n",
    "income_profile_list = []\n",
    "\n",
    "for value in orders_prods_custs_merge['income']:\n",
    "    if value < 25000:\n",
    "        income_profile_list.append('0-25000')\n",
    "    elif (value >= 25000) and (value <= 50000):\n",
    "        income_profile_list.append('25000-50000')\n",
    "    elif (value >= 50000) and (value <= 75000):\n",
    "        income_profile_list.append('50000-75000')\n",
    "    elif (value >= 75000) and (value <= 100000):\n",
    "        income_profile_list.append('75000-100000')\n",
    "    elif (value >= 100000) and (value <= 125000):\n",
    "        income_profile_list.append('100000-125000')\n",
    "    elif (value >= 125000) and (value <= 150000):\n",
    "        income_profile_list.append('125000-150000')\n",
    "    elif (value >= 150000) and (value <= 175000):\n",
    "        income_profile_list.append('150000-175000')\n",
    "    elif (value >= 175000) and (value <= 200000):\n",
    "        income_profile_list.append('175000-200000')\n",
    "    elif (value >= 200000) and (value <= 300000):\n",
    "        income_profile_list.append('200000-300000')\n",
    "    elif (value >= 300000) and (value <= 400000):\n",
    "        income_profile_list.append('300000-400000')\n",
    "    elif (value >= 400000) and (value <= 500000):\n",
    "        income_profile_list.append('400000-500000')\n",
    "    elif value >= 500000:\n",
    "        income_profile_list.append('500000+')"
   ]
  },
  {
   "cell_type": "code",
   "execution_count": 30,
   "id": "6850c684",
   "metadata": {},
   "outputs": [],
   "source": [
    "orders_prods_custs_merge['income_profile'] = income_profile_list"
   ]
  },
  {
   "cell_type": "code",
   "execution_count": 31,
   "id": "1f68b48f",
   "metadata": {},
   "outputs": [
    {
     "data": {
      "text/plain": [
       "75000-100000     7147837\n",
       "50000-75000      6848737\n",
       "100000-125000    6183245\n",
       "125000-150000    4580117\n",
       "150000-175000    3743496\n",
       "25000-50000      3594083\n",
       "200000-300000     156820\n",
       "300000-400000      53931\n",
       "175000-200000      48901\n",
       "400000-500000      28337\n",
       "500000+            19355\n",
       "Name: income_profile, dtype: int64"
      ]
     },
     "execution_count": 31,
     "metadata": {},
     "output_type": "execute_result"
    }
   ],
   "source": [
    "orders_prods_custs_merge['income_profile'].value_counts()"
   ]
  },
  {
   "cell_type": "code",
   "execution_count": 32,
   "id": "30a159fd",
   "metadata": {},
   "outputs": [
    {
     "data": {
      "text/plain": [
       "0    8097503\n",
       "1    8081104\n",
       "2    8091143\n",
       "3    8135109\n",
       "Name: number_of_dependents, dtype: int64"
      ]
     },
     "execution_count": 32,
     "metadata": {},
     "output_type": "execute_result"
    }
   ],
   "source": [
    "orders_prods_custs_merge['number_of_dependents'].value_counts().sort_index()"
   ]
  },
  {
   "cell_type": "code",
   "execution_count": 33,
   "id": "9f2a9c1c",
   "metadata": {},
   "outputs": [],
   "source": [
    "# Create 'dependents' on parent list\n",
    "\n",
    "dependents_profile_list = []\n",
    "\n",
    "for value in orders_prods_custs_merge['number_of_dependents']:\n",
    "    if value == 0:\n",
    "        dependents_profile_list.append('single_adult')\n",
    "    else:\n",
    "        dependents_profile_list.append('young_parent')"
   ]
  },
  {
   "cell_type": "code",
   "execution_count": 34,
   "id": "20902a6c",
   "metadata": {},
   "outputs": [],
   "source": [
    "# Assign dependents list to column\n",
    "\n",
    "orders_prods_custs_merge['dependents_profile'] = dependents_profile_list"
   ]
  },
  {
   "cell_type": "code",
   "execution_count": 35,
   "id": "3d71d7e7",
   "metadata": {},
   "outputs": [
    {
     "data": {
      "text/plain": [
       "young_parent    24307356\n",
       "single_adult     8097503\n",
       "Name: dependents_profile, dtype: int64"
      ]
     },
     "execution_count": 35,
     "metadata": {},
     "output_type": "execute_result"
    }
   ],
   "source": [
    "orders_prods_custs_merge['dependents_profile'].value_counts()"
   ]
  },
  {
   "cell_type": "markdown",
   "id": "0fbb7406",
   "metadata": {},
   "source": [
    "# Question 6: Create an appropriate visualization to show the distribution of profiles."
   ]
  },
  {
   "cell_type": "code",
   "execution_count": 36,
   "id": "166c9fe3",
   "metadata": {},
   "outputs": [
    {
     "data": {
      "text/plain": [
       "Text(0, 0.5, 'the frequency of age')"
      ]
     },
     "execution_count": 36,
     "metadata": {},
     "output_type": "execute_result"
    },
    {
     "data": {
      "image/png": "[encoded data removed]",
      "text/plain": [
       "<Figure size 432x288 with 1 Axes>"
      ]
     },
     "metadata": {
      "needs_background": "light"
     },
     "output_type": "display_data"
    }
   ],
   "source": [
    "age_bar_chart = orders_prods_custs_merge['age_profile'].value_counts().plot.bar()\n",
    "\n",
    "plt.title('Age Profile Bar Graph')\n",
    "plt.xlabel('age_profile')\n",
    "plt.ylabel('the frequency of age')"
   ]
  },
  {
   "cell_type": "code",
   "execution_count": 38,
   "id": "048de23b",
   "metadata": {},
   "outputs": [],
   "source": [
    "age_bar_chart.figure.savefig(os.path.join(path, '04 Analysis', 'Visualizations', 'age_bar_chart.png'))"
   ]
  },
  {
   "cell_type": "code",
   "execution_count": 41,
   "id": "698adf7c",
   "metadata": {},
   "outputs": [
    {
     "data": {
      "text/plain": [
       "Text(0, 0.5, 'the frequency of income per customer')"
      ]
     },
     "execution_count": 41,
     "metadata": {},
     "output_type": "execute_result"
    },
    {
     "data": {
      "image/png": "[encoded data removed]",
      "text/plain": [
       "<Figure size 432x288 with 1 Axes>"
      ]
     },
     "metadata": {
      "needs_background": "light"
     },
     "output_type": "display_data"
    }
   ],
   "source": [
    "income_chart = orders_prods_custs_merge['income_profile'].value_counts().plot.bar()\n",
    "\n",
    "plt.title('Customer Income Bar Graph')\n",
    "plt.xlabel('income_profile')\n",
    "plt.ylabel('the frequency of income per customer')"
   ]
  },
  {
   "cell_type": "code",
   "execution_count": 42,
   "id": "5a4491d7",
   "metadata": {},
   "outputs": [],
   "source": [
    "income_chart.figure.savefig(os.path.join(path, '04 Analysis', 'Visualizations', 'income_profile_distribution.png'))"
   ]
  },
  {
   "cell_type": "code",
   "execution_count": 43,
   "id": "75ebcd29",
   "metadata": {},
   "outputs": [
    {
     "data": {
      "image/png": "[encoded data removed]",
      "text/plain": [
       "<Figure size 432x288 with 1 Axes>"
      ]
     },
     "metadata": {},
     "output_type": "display_data"
    }
   ],
   "source": [
    "dependents_chart = orders_prods_custs_merge['dependents_profile'].value_counts().plot.pie(title = 'Dependents profile distribution', ylabel='')"
   ]
  },
  {
   "cell_type": "code",
   "execution_count": 44,
   "id": "861fb89d",
   "metadata": {},
   "outputs": [],
   "source": [
    "dependents_chart.figure.savefig(os.path.join(path, '04 Analysis', 'Visualizations', 'dependents_profile_distribution.png'))"
   ]
  },
  {
   "cell_type": "markdown",
   "id": "bb2b9023",
   "metadata": {},
   "source": [
    "# Question 7: Aggregate the max, mean, and min variables on a customer-profile level for usage frequency and expenditure."
   ]
  },
  {
   "cell_type": "code",
   "execution_count": 45,
   "id": "317d3a24",
   "metadata": {},
   "outputs": [
    {
     "data": {
      "text/html": [
       "<div>\n",
       "<style scoped>\n",
       "    .dataframe tbody tr th:only-of-type {\n",
       "        vertical-align: middle;\n",
       "    }\n",
       "\n",
       "    .dataframe tbody tr th {\n",
       "        vertical-align: top;\n",
       "    }\n",
       "\n",
       "    .dataframe thead tr th {\n",
       "        text-align: left;\n",
       "    }\n",
       "\n",
       "    .dataframe thead tr:last-of-type th {\n",
       "        text-align: right;\n",
       "    }\n",
       "</style>\n",
       "<table border=\"1\" class=\"dataframe\">\n",
       "  <thead>\n",
       "    <tr>\n",
       "      <th></th>\n",
       "      <th colspan=\"3\" halign=\"left\">order_number</th>\n",
       "    </tr>\n",
       "    <tr>\n",
       "      <th></th>\n",
       "      <th>mean</th>\n",
       "      <th>min</th>\n",
       "      <th>max</th>\n",
       "    </tr>\n",
       "    <tr>\n",
       "      <th>age_profile</th>\n",
       "      <th></th>\n",
       "      <th></th>\n",
       "      <th></th>\n",
       "    </tr>\n",
       "  </thead>\n",
       "  <tbody>\n",
       "    <tr>\n",
       "      <th>18-24</th>\n",
       "      <td>17.282836</td>\n",
       "      <td>1</td>\n",
       "      <td>99</td>\n",
       "    </tr>\n",
       "    <tr>\n",
       "      <th>25-34</th>\n",
       "      <td>17.007055</td>\n",
       "      <td>1</td>\n",
       "      <td>99</td>\n",
       "    </tr>\n",
       "    <tr>\n",
       "      <th>35-44</th>\n",
       "      <td>17.194347</td>\n",
       "      <td>1</td>\n",
       "      <td>99</td>\n",
       "    </tr>\n",
       "    <tr>\n",
       "      <th>45-54</th>\n",
       "      <td>17.174680</td>\n",
       "      <td>1</td>\n",
       "      <td>99</td>\n",
       "    </tr>\n",
       "    <tr>\n",
       "      <th>55-64</th>\n",
       "      <td>17.168240</td>\n",
       "      <td>1</td>\n",
       "      <td>99</td>\n",
       "    </tr>\n",
       "    <tr>\n",
       "      <th>65-74</th>\n",
       "      <td>17.085593</td>\n",
       "      <td>1</td>\n",
       "      <td>99</td>\n",
       "    </tr>\n",
       "    <tr>\n",
       "      <th>75-84</th>\n",
       "      <td>17.115978</td>\n",
       "      <td>1</td>\n",
       "      <td>99</td>\n",
       "    </tr>\n",
       "  </tbody>\n",
       "</table>\n",
       "</div>"
      ],
      "text/plain": [
       "            order_number        \n",
       "                    mean min max\n",
       "age_profile                     \n",
       "18-24          17.282836   1  99\n",
       "25-34          17.007055   1  99\n",
       "35-44          17.194347   1  99\n",
       "45-54          17.174680   1  99\n",
       "55-64          17.168240   1  99\n",
       "65-74          17.085593   1  99\n",
       "75-84          17.115978   1  99"
      ]
     },
     "execution_count": 45,
     "metadata": {},
     "output_type": "execute_result"
    }
   ],
   "source": [
    "# Number of orders with age\n",
    "\n",
    "orders_prods_custs_merge.groupby('age_profile').agg({'order_number': ['mean', 'min', 'max']})"
   ]
  },
  {
   "cell_type": "code",
   "execution_count": 46,
   "id": "2e69d83d",
   "metadata": {},
   "outputs": [
    {
     "data": {
      "text/html": [
       "<div>\n",
       "<style scoped>\n",
       "    .dataframe tbody tr th:only-of-type {\n",
       "        vertical-align: middle;\n",
       "    }\n",
       "\n",
       "    .dataframe tbody tr th {\n",
       "        vertical-align: top;\n",
       "    }\n",
       "\n",
       "    .dataframe thead tr th {\n",
       "        text-align: left;\n",
       "    }\n",
       "\n",
       "    .dataframe thead tr:last-of-type th {\n",
       "        text-align: right;\n",
       "    }\n",
       "</style>\n",
       "<table border=\"1\" class=\"dataframe\">\n",
       "  <thead>\n",
       "    <tr>\n",
       "      <th></th>\n",
       "      <th colspan=\"3\" halign=\"left\">order_number</th>\n",
       "    </tr>\n",
       "    <tr>\n",
       "      <th></th>\n",
       "      <th>mean</th>\n",
       "      <th>min</th>\n",
       "      <th>max</th>\n",
       "    </tr>\n",
       "    <tr>\n",
       "      <th>income_profile</th>\n",
       "      <th></th>\n",
       "      <th></th>\n",
       "      <th></th>\n",
       "    </tr>\n",
       "  </thead>\n",
       "  <tbody>\n",
       "    <tr>\n",
       "      <th>100000-125000</th>\n",
       "      <td>17.271478</td>\n",
       "      <td>1</td>\n",
       "      <td>99</td>\n",
       "    </tr>\n",
       "    <tr>\n",
       "      <th>125000-150000</th>\n",
       "      <td>17.117874</td>\n",
       "      <td>1</td>\n",
       "      <td>99</td>\n",
       "    </tr>\n",
       "    <tr>\n",
       "      <th>150000-175000</th>\n",
       "      <td>17.290060</td>\n",
       "      <td>1</td>\n",
       "      <td>99</td>\n",
       "    </tr>\n",
       "    <tr>\n",
       "      <th>175000-200000</th>\n",
       "      <td>19.145743</td>\n",
       "      <td>1</td>\n",
       "      <td>99</td>\n",
       "    </tr>\n",
       "    <tr>\n",
       "      <th>200000-300000</th>\n",
       "      <td>19.561127</td>\n",
       "      <td>1</td>\n",
       "      <td>99</td>\n",
       "    </tr>\n",
       "    <tr>\n",
       "      <th>25000-50000</th>\n",
       "      <td>15.896069</td>\n",
       "      <td>1</td>\n",
       "      <td>99</td>\n",
       "    </tr>\n",
       "    <tr>\n",
       "      <th>300000-400000</th>\n",
       "      <td>20.869333</td>\n",
       "      <td>1</td>\n",
       "      <td>99</td>\n",
       "    </tr>\n",
       "    <tr>\n",
       "      <th>400000-500000</th>\n",
       "      <td>18.736775</td>\n",
       "      <td>1</td>\n",
       "      <td>99</td>\n",
       "    </tr>\n",
       "    <tr>\n",
       "      <th>50000-75000</th>\n",
       "      <td>17.350705</td>\n",
       "      <td>1</td>\n",
       "      <td>99</td>\n",
       "    </tr>\n",
       "    <tr>\n",
       "      <th>500000+</th>\n",
       "      <td>19.393128</td>\n",
       "      <td>1</td>\n",
       "      <td>99</td>\n",
       "    </tr>\n",
       "    <tr>\n",
       "      <th>75000-100000</th>\n",
       "      <td>17.288477</td>\n",
       "      <td>1</td>\n",
       "      <td>99</td>\n",
       "    </tr>\n",
       "  </tbody>\n",
       "</table>\n",
       "</div>"
      ],
      "text/plain": [
       "               order_number        \n",
       "                       mean min max\n",
       "income_profile                     \n",
       "100000-125000     17.271478   1  99\n",
       "125000-150000     17.117874   1  99\n",
       "150000-175000     17.290060   1  99\n",
       "175000-200000     19.145743   1  99\n",
       "200000-300000     19.561127   1  99\n",
       "25000-50000       15.896069   1  99\n",
       "300000-400000     20.869333   1  99\n",
       "400000-500000     18.736775   1  99\n",
       "50000-75000       17.350705   1  99\n",
       "500000+           19.393128   1  99\n",
       "75000-100000      17.288477   1  99"
      ]
     },
     "execution_count": 46,
     "metadata": {},
     "output_type": "execute_result"
    }
   ],
   "source": [
    "# Income class with number of orders\n",
    "\n",
    "orders_prods_custs_merge.groupby('income_profile').agg({'order_number': ['mean', 'min', 'max']})"
   ]
  },
  {
   "cell_type": "code",
   "execution_count": 47,
   "id": "ae47f7e9",
   "metadata": {},
   "outputs": [
    {
     "data": {
      "text/html": [
       "<div>\n",
       "<style scoped>\n",
       "    .dataframe tbody tr th:only-of-type {\n",
       "        vertical-align: middle;\n",
       "    }\n",
       "\n",
       "    .dataframe tbody tr th {\n",
       "        vertical-align: top;\n",
       "    }\n",
       "\n",
       "    .dataframe thead tr th {\n",
       "        text-align: left;\n",
       "    }\n",
       "\n",
       "    .dataframe thead tr:last-of-type th {\n",
       "        text-align: right;\n",
       "    }\n",
       "</style>\n",
       "<table border=\"1\" class=\"dataframe\">\n",
       "  <thead>\n",
       "    <tr>\n",
       "      <th></th>\n",
       "      <th colspan=\"3\" halign=\"left\">days_since_prior_order</th>\n",
       "    </tr>\n",
       "    <tr>\n",
       "      <th></th>\n",
       "      <th>mean</th>\n",
       "      <th>min</th>\n",
       "      <th>max</th>\n",
       "    </tr>\n",
       "    <tr>\n",
       "      <th>age_profile</th>\n",
       "      <th></th>\n",
       "      <th></th>\n",
       "      <th></th>\n",
       "    </tr>\n",
       "  </thead>\n",
       "  <tbody>\n",
       "    <tr>\n",
       "      <th>18-24</th>\n",
       "      <td>11.057388</td>\n",
       "      <td>0.0</td>\n",
       "      <td>30.0</td>\n",
       "    </tr>\n",
       "    <tr>\n",
       "      <th>25-34</th>\n",
       "      <td>11.165556</td>\n",
       "      <td>0.0</td>\n",
       "      <td>30.0</td>\n",
       "    </tr>\n",
       "    <tr>\n",
       "      <th>35-44</th>\n",
       "      <td>11.084533</td>\n",
       "      <td>0.0</td>\n",
       "      <td>30.0</td>\n",
       "    </tr>\n",
       "    <tr>\n",
       "      <th>45-54</th>\n",
       "      <td>11.092368</td>\n",
       "      <td>0.0</td>\n",
       "      <td>30.0</td>\n",
       "    </tr>\n",
       "    <tr>\n",
       "      <th>55-64</th>\n",
       "      <td>11.150466</td>\n",
       "      <td>0.0</td>\n",
       "      <td>30.0</td>\n",
       "    </tr>\n",
       "    <tr>\n",
       "      <th>65-74</th>\n",
       "      <td>11.078467</td>\n",
       "      <td>0.0</td>\n",
       "      <td>30.0</td>\n",
       "    </tr>\n",
       "    <tr>\n",
       "      <th>75-84</th>\n",
       "      <td>11.078885</td>\n",
       "      <td>0.0</td>\n",
       "      <td>30.0</td>\n",
       "    </tr>\n",
       "  </tbody>\n",
       "</table>\n",
       "</div>"
      ],
      "text/plain": [
       "            days_since_prior_order           \n",
       "                              mean  min   max\n",
       "age_profile                                  \n",
       "18-24                    11.057388  0.0  30.0\n",
       "25-34                    11.165556  0.0  30.0\n",
       "35-44                    11.084533  0.0  30.0\n",
       "45-54                    11.092368  0.0  30.0\n",
       "55-64                    11.150466  0.0  30.0\n",
       "65-74                    11.078467  0.0  30.0\n",
       "75-84                    11.078885  0.0  30.0"
      ]
     },
     "execution_count": 47,
     "metadata": {},
     "output_type": "execute_result"
    }
   ],
   "source": [
    "# Age with days since prior orders\n",
    "\n",
    "orders_prods_custs_merge.groupby('age_profile').agg({'days_since_prior_order': ['mean', 'min', 'max']})"
   ]
  },
  {
   "cell_type": "markdown",
   "id": "31b28d67",
   "metadata": {},
   "source": [
    "# Question 8: Compare your customer profiles with regions and departments. Can you identify a link between them? Customers may demonstrate different behaviors across regions, which could make this information important."
   ]
  },
  {
   "cell_type": "code",
   "execution_count": 48,
   "id": "8a2cb348",
   "metadata": {},
   "outputs": [],
   "source": [
    "# regions vs departments\n",
    "\n",
    "region_departments = pd.crosstab(orders_prods_custs_merge['region'], orders_prods_custs_merge['department_id'], dropna = False)"
   ]
  },
  {
   "cell_type": "code",
   "execution_count": 49,
   "id": "699919d1",
   "metadata": {},
   "outputs": [
    {
     "data": {
      "text/html": [
       "<div>\n",
       "<style scoped>\n",
       "    .dataframe tbody tr th:only-of-type {\n",
       "        vertical-align: middle;\n",
       "    }\n",
       "\n",
       "    .dataframe tbody tr th {\n",
       "        vertical-align: top;\n",
       "    }\n",
       "\n",
       "    .dataframe thead th {\n",
       "        text-align: right;\n",
       "    }\n",
       "</style>\n",
       "<table border=\"1\" class=\"dataframe\">\n",
       "  <thead>\n",
       "    <tr style=\"text-align: right;\">\n",
       "      <th>department_id</th>\n",
       "      <th>1.0</th>\n",
       "      <th>2.0</th>\n",
       "      <th>3.0</th>\n",
       "      <th>4.0</th>\n",
       "      <th>5.0</th>\n",
       "      <th>6.0</th>\n",
       "      <th>7.0</th>\n",
       "      <th>8.0</th>\n",
       "      <th>9.0</th>\n",
       "      <th>10.0</th>\n",
       "      <th>...</th>\n",
       "      <th>12.0</th>\n",
       "      <th>13.0</th>\n",
       "      <th>14.0</th>\n",
       "      <th>15.0</th>\n",
       "      <th>16.0</th>\n",
       "      <th>17.0</th>\n",
       "      <th>18.0</th>\n",
       "      <th>19.0</th>\n",
       "      <th>20.0</th>\n",
       "      <th>21.0</th>\n",
       "    </tr>\n",
       "    <tr>\n",
       "      <th>region</th>\n",
       "      <th></th>\n",
       "      <th></th>\n",
       "      <th></th>\n",
       "      <th></th>\n",
       "      <th></th>\n",
       "      <th></th>\n",
       "      <th></th>\n",
       "      <th></th>\n",
       "      <th></th>\n",
       "      <th></th>\n",
       "      <th></th>\n",
       "      <th></th>\n",
       "      <th></th>\n",
       "      <th></th>\n",
       "      <th></th>\n",
       "      <th></th>\n",
       "      <th></th>\n",
       "      <th></th>\n",
       "      <th></th>\n",
       "      <th></th>\n",
       "      <th></th>\n",
       "    </tr>\n",
       "  </thead>\n",
       "  <tbody>\n",
       "    <tr>\n",
       "      <th>Midwest</th>\n",
       "      <td>524096</td>\n",
       "      <td>8420</td>\n",
       "      <td>273869</td>\n",
       "      <td>2227937</td>\n",
       "      <td>36186</td>\n",
       "      <td>63736</td>\n",
       "      <td>625574</td>\n",
       "      <td>22355</td>\n",
       "      <td>203769</td>\n",
       "      <td>8193</td>\n",
       "      <td>...</td>\n",
       "      <td>166129</td>\n",
       "      <td>442101</td>\n",
       "      <td>163551</td>\n",
       "      <td>250702</td>\n",
       "      <td>1264223</td>\n",
       "      <td>175824</td>\n",
       "      <td>98983</td>\n",
       "      <td>673715</td>\n",
       "      <td>245678</td>\n",
       "      <td>16535</td>\n",
       "    </tr>\n",
       "    <tr>\n",
       "      <th>Northeast</th>\n",
       "      <td>390918</td>\n",
       "      <td>6585</td>\n",
       "      <td>208599</td>\n",
       "      <td>1665839</td>\n",
       "      <td>26542</td>\n",
       "      <td>46891</td>\n",
       "      <td>483418</td>\n",
       "      <td>18601</td>\n",
       "      <td>151816</td>\n",
       "      <td>5802</td>\n",
       "      <td>...</td>\n",
       "      <td>124620</td>\n",
       "      <td>329445</td>\n",
       "      <td>123574</td>\n",
       "      <td>186755</td>\n",
       "      <td>954026</td>\n",
       "      <td>131485</td>\n",
       "      <td>75139</td>\n",
       "      <td>514675</td>\n",
       "      <td>186817</td>\n",
       "      <td>12374</td>\n",
       "    </tr>\n",
       "    <tr>\n",
       "      <th>South</th>\n",
       "      <td>747900</td>\n",
       "      <td>12212</td>\n",
       "      <td>388815</td>\n",
       "      <td>3160551</td>\n",
       "      <td>51624</td>\n",
       "      <td>89142</td>\n",
       "      <td>898940</td>\n",
       "      <td>31269</td>\n",
       "      <td>287444</td>\n",
       "      <td>11533</td>\n",
       "      <td>...</td>\n",
       "      <td>235752</td>\n",
       "      <td>622436</td>\n",
       "      <td>234251</td>\n",
       "      <td>356015</td>\n",
       "      <td>1796969</td>\n",
       "      <td>243070</td>\n",
       "      <td>143654</td>\n",
       "      <td>957346</td>\n",
       "      <td>349419</td>\n",
       "      <td>23193</td>\n",
       "    </tr>\n",
       "    <tr>\n",
       "      <th>West</th>\n",
       "      <td>571829</td>\n",
       "      <td>9074</td>\n",
       "      <td>301145</td>\n",
       "      <td>2424964</td>\n",
       "      <td>39344</td>\n",
       "      <td>69484</td>\n",
       "      <td>680191</td>\n",
       "      <td>25491</td>\n",
       "      <td>223598</td>\n",
       "      <td>9045</td>\n",
       "      <td>...</td>\n",
       "      <td>182426</td>\n",
       "      <td>481387</td>\n",
       "      <td>181657</td>\n",
       "      <td>274586</td>\n",
       "      <td>1383529</td>\n",
       "      <td>188287</td>\n",
       "      <td>106026</td>\n",
       "      <td>741814</td>\n",
       "      <td>269335</td>\n",
       "      <td>17043</td>\n",
       "    </tr>\n",
       "  </tbody>\n",
       "</table>\n",
       "<p>4 rows × 21 columns</p>\n",
       "</div>"
      ],
      "text/plain": [
       "department_id    1.0    2.0     3.0      4.0    5.0    6.0     7.0    8.0   \\\n",
       "region                                                                       \n",
       "Midwest        524096   8420  273869  2227937  36186  63736  625574  22355   \n",
       "Northeast      390918   6585  208599  1665839  26542  46891  483418  18601   \n",
       "South          747900  12212  388815  3160551  51624  89142  898940  31269   \n",
       "West           571829   9074  301145  2424964  39344  69484  680191  25491   \n",
       "\n",
       "department_id    9.0    10.0  ...    12.0    13.0    14.0    15.0     16.0  \\\n",
       "region                        ...                                            \n",
       "Midwest        203769   8193  ...  166129  442101  163551  250702  1264223   \n",
       "Northeast      151816   5802  ...  124620  329445  123574  186755   954026   \n",
       "South          287444  11533  ...  235752  622436  234251  356015  1796969   \n",
       "West           223598   9045  ...  182426  481387  181657  274586  1383529   \n",
       "\n",
       "department_id    17.0    18.0    19.0    20.0   21.0  \n",
       "region                                                \n",
       "Midwest        175824   98983  673715  245678  16535  \n",
       "Northeast      131485   75139  514675  186817  12374  \n",
       "South          243070  143654  957346  349419  23193  \n",
       "West           188287  106026  741814  269335  17043  \n",
       "\n",
       "[4 rows x 21 columns]"
      ]
     },
     "execution_count": 49,
     "metadata": {},
     "output_type": "execute_result"
    }
   ],
   "source": [
    "region_departments"
   ]
  },
  {
   "cell_type": "code",
   "execution_count": 50,
   "id": "2ea445c2",
   "metadata": {},
   "outputs": [],
   "source": [
    "# allow for all columns\n",
    "\n",
    "pd.set_option(\"display.max_columns\", None)"
   ]
  },
  {
   "cell_type": "code",
   "execution_count": 51,
   "id": "097e14d7",
   "metadata": {},
   "outputs": [
    {
     "data": {
      "text/html": [
       "<div>\n",
       "<style scoped>\n",
       "    .dataframe tbody tr th:only-of-type {\n",
       "        vertical-align: middle;\n",
       "    }\n",
       "\n",
       "    .dataframe tbody tr th {\n",
       "        vertical-align: top;\n",
       "    }\n",
       "\n",
       "    .dataframe thead th {\n",
       "        text-align: right;\n",
       "    }\n",
       "</style>\n",
       "<table border=\"1\" class=\"dataframe\">\n",
       "  <thead>\n",
       "    <tr style=\"text-align: right;\">\n",
       "      <th>department_id</th>\n",
       "      <th>1.0</th>\n",
       "      <th>2.0</th>\n",
       "      <th>3.0</th>\n",
       "      <th>4.0</th>\n",
       "      <th>5.0</th>\n",
       "      <th>6.0</th>\n",
       "      <th>7.0</th>\n",
       "      <th>8.0</th>\n",
       "      <th>9.0</th>\n",
       "      <th>10.0</th>\n",
       "      <th>11.0</th>\n",
       "      <th>12.0</th>\n",
       "      <th>13.0</th>\n",
       "      <th>14.0</th>\n",
       "      <th>15.0</th>\n",
       "      <th>16.0</th>\n",
       "      <th>17.0</th>\n",
       "      <th>18.0</th>\n",
       "      <th>19.0</th>\n",
       "      <th>20.0</th>\n",
       "      <th>21.0</th>\n",
       "    </tr>\n",
       "    <tr>\n",
       "      <th>region</th>\n",
       "      <th></th>\n",
       "      <th></th>\n",
       "      <th></th>\n",
       "      <th></th>\n",
       "      <th></th>\n",
       "      <th></th>\n",
       "      <th></th>\n",
       "      <th></th>\n",
       "      <th></th>\n",
       "      <th></th>\n",
       "      <th></th>\n",
       "      <th></th>\n",
       "      <th></th>\n",
       "      <th></th>\n",
       "      <th></th>\n",
       "      <th></th>\n",
       "      <th></th>\n",
       "      <th></th>\n",
       "      <th></th>\n",
       "      <th></th>\n",
       "      <th></th>\n",
       "    </tr>\n",
       "  </thead>\n",
       "  <tbody>\n",
       "    <tr>\n",
       "      <th>Midwest</th>\n",
       "      <td>524096</td>\n",
       "      <td>8420</td>\n",
       "      <td>273869</td>\n",
       "      <td>2227937</td>\n",
       "      <td>36186</td>\n",
       "      <td>63736</td>\n",
       "      <td>625574</td>\n",
       "      <td>22355</td>\n",
       "      <td>203769</td>\n",
       "      <td>8193</td>\n",
       "      <td>105749</td>\n",
       "      <td>166129</td>\n",
       "      <td>442101</td>\n",
       "      <td>163551</td>\n",
       "      <td>250702</td>\n",
       "      <td>1264223</td>\n",
       "      <td>175824</td>\n",
       "      <td>98983</td>\n",
       "      <td>673715</td>\n",
       "      <td>245678</td>\n",
       "      <td>16535</td>\n",
       "    </tr>\n",
       "    <tr>\n",
       "      <th>Northeast</th>\n",
       "      <td>390918</td>\n",
       "      <td>6585</td>\n",
       "      <td>208599</td>\n",
       "      <td>1665839</td>\n",
       "      <td>26542</td>\n",
       "      <td>46891</td>\n",
       "      <td>483418</td>\n",
       "      <td>18601</td>\n",
       "      <td>151816</td>\n",
       "      <td>5802</td>\n",
       "      <td>78815</td>\n",
       "      <td>124620</td>\n",
       "      <td>329445</td>\n",
       "      <td>123574</td>\n",
       "      <td>186755</td>\n",
       "      <td>954026</td>\n",
       "      <td>131485</td>\n",
       "      <td>75139</td>\n",
       "      <td>514675</td>\n",
       "      <td>186817</td>\n",
       "      <td>12374</td>\n",
       "    </tr>\n",
       "    <tr>\n",
       "      <th>South</th>\n",
       "      <td>747900</td>\n",
       "      <td>12212</td>\n",
       "      <td>388815</td>\n",
       "      <td>3160551</td>\n",
       "      <td>51624</td>\n",
       "      <td>89142</td>\n",
       "      <td>898940</td>\n",
       "      <td>31269</td>\n",
       "      <td>287444</td>\n",
       "      <td>11533</td>\n",
       "      <td>150350</td>\n",
       "      <td>235752</td>\n",
       "      <td>622436</td>\n",
       "      <td>234251</td>\n",
       "      <td>356015</td>\n",
       "      <td>1796969</td>\n",
       "      <td>243070</td>\n",
       "      <td>143654</td>\n",
       "      <td>957346</td>\n",
       "      <td>349419</td>\n",
       "      <td>23193</td>\n",
       "    </tr>\n",
       "    <tr>\n",
       "      <th>West</th>\n",
       "      <td>571829</td>\n",
       "      <td>9074</td>\n",
       "      <td>301145</td>\n",
       "      <td>2424964</td>\n",
       "      <td>39344</td>\n",
       "      <td>69484</td>\n",
       "      <td>680191</td>\n",
       "      <td>25491</td>\n",
       "      <td>223598</td>\n",
       "      <td>9045</td>\n",
       "      <td>112658</td>\n",
       "      <td>182426</td>\n",
       "      <td>481387</td>\n",
       "      <td>181657</td>\n",
       "      <td>274586</td>\n",
       "      <td>1383529</td>\n",
       "      <td>188287</td>\n",
       "      <td>106026</td>\n",
       "      <td>741814</td>\n",
       "      <td>269335</td>\n",
       "      <td>17043</td>\n",
       "    </tr>\n",
       "  </tbody>\n",
       "</table>\n",
       "</div>"
      ],
      "text/plain": [
       "department_id    1.0    2.0     3.0      4.0    5.0    6.0     7.0    8.0   \\\n",
       "region                                                                       \n",
       "Midwest        524096   8420  273869  2227937  36186  63736  625574  22355   \n",
       "Northeast      390918   6585  208599  1665839  26542  46891  483418  18601   \n",
       "South          747900  12212  388815  3160551  51624  89142  898940  31269   \n",
       "West           571829   9074  301145  2424964  39344  69484  680191  25491   \n",
       "\n",
       "department_id    9.0    10.0    11.0    12.0    13.0    14.0    15.0     16.0  \\\n",
       "region                                                                          \n",
       "Midwest        203769   8193  105749  166129  442101  163551  250702  1264223   \n",
       "Northeast      151816   5802   78815  124620  329445  123574  186755   954026   \n",
       "South          287444  11533  150350  235752  622436  234251  356015  1796969   \n",
       "West           223598   9045  112658  182426  481387  181657  274586  1383529   \n",
       "\n",
       "department_id    17.0    18.0    19.0    20.0   21.0  \n",
       "region                                                \n",
       "Midwest        175824   98983  673715  245678  16535  \n",
       "Northeast      131485   75139  514675  186817  12374  \n",
       "South          243070  143654  957346  349419  23193  \n",
       "West           188287  106026  741814  269335  17043  "
      ]
     },
     "execution_count": 51,
     "metadata": {},
     "output_type": "execute_result"
    }
   ],
   "source": [
    "region_departments"
   ]
  },
  {
   "cell_type": "code",
   "execution_count": 54,
   "id": "01e9b026",
   "metadata": {},
   "outputs": [],
   "source": [
    "# spending across departments\n",
    "\n",
    "spending_departments = pd.crosstab(orders_prods_custs_merge['spending_flag'], orders_prods_custs_merge['department_id'], dropna = False)"
   ]
  },
  {
   "cell_type": "code",
   "execution_count": 55,
   "id": "078eb5d9",
   "metadata": {},
   "outputs": [
    {
     "data": {
      "text/html": [
       "<div>\n",
       "<style scoped>\n",
       "    .dataframe tbody tr th:only-of-type {\n",
       "        vertical-align: middle;\n",
       "    }\n",
       "\n",
       "    .dataframe tbody tr th {\n",
       "        vertical-align: top;\n",
       "    }\n",
       "\n",
       "    .dataframe thead th {\n",
       "        text-align: right;\n",
       "    }\n",
       "</style>\n",
       "<table border=\"1\" class=\"dataframe\">\n",
       "  <thead>\n",
       "    <tr style=\"text-align: right;\">\n",
       "      <th>department_id</th>\n",
       "      <th>1.0</th>\n",
       "      <th>2.0</th>\n",
       "      <th>3.0</th>\n",
       "      <th>4.0</th>\n",
       "      <th>5.0</th>\n",
       "      <th>6.0</th>\n",
       "      <th>7.0</th>\n",
       "      <th>8.0</th>\n",
       "      <th>9.0</th>\n",
       "      <th>10.0</th>\n",
       "      <th>11.0</th>\n",
       "      <th>12.0</th>\n",
       "      <th>13.0</th>\n",
       "      <th>14.0</th>\n",
       "      <th>15.0</th>\n",
       "      <th>16.0</th>\n",
       "      <th>17.0</th>\n",
       "      <th>18.0</th>\n",
       "      <th>19.0</th>\n",
       "      <th>20.0</th>\n",
       "      <th>21.0</th>\n",
       "    </tr>\n",
       "    <tr>\n",
       "      <th>spending_flag</th>\n",
       "      <th></th>\n",
       "      <th></th>\n",
       "      <th></th>\n",
       "      <th></th>\n",
       "      <th></th>\n",
       "      <th></th>\n",
       "      <th></th>\n",
       "      <th></th>\n",
       "      <th></th>\n",
       "      <th></th>\n",
       "      <th></th>\n",
       "      <th></th>\n",
       "      <th></th>\n",
       "      <th></th>\n",
       "      <th></th>\n",
       "      <th></th>\n",
       "      <th></th>\n",
       "      <th></th>\n",
       "      <th></th>\n",
       "      <th></th>\n",
       "      <th></th>\n",
       "    </tr>\n",
       "  </thead>\n",
       "  <tbody>\n",
       "    <tr>\n",
       "      <th>Higher Spender</th>\n",
       "      <td>1230</td>\n",
       "      <td>66</td>\n",
       "      <td>619</td>\n",
       "      <td>5763</td>\n",
       "      <td>462</td>\n",
       "      <td>47</td>\n",
       "      <td>7361</td>\n",
       "      <td>55</td>\n",
       "      <td>213</td>\n",
       "      <td>75</td>\n",
       "      <td>340</td>\n",
       "      <td>113</td>\n",
       "      <td>987</td>\n",
       "      <td>778</td>\n",
       "      <td>450</td>\n",
       "      <td>2721</td>\n",
       "      <td>1041</td>\n",
       "      <td>45</td>\n",
       "      <td>10463</td>\n",
       "      <td>646</td>\n",
       "      <td>20</td>\n",
       "    </tr>\n",
       "    <tr>\n",
       "      <th>Low spender</th>\n",
       "      <td>2233513</td>\n",
       "      <td>36225</td>\n",
       "      <td>1171809</td>\n",
       "      <td>9473528</td>\n",
       "      <td>153234</td>\n",
       "      <td>269206</td>\n",
       "      <td>2680762</td>\n",
       "      <td>97661</td>\n",
       "      <td>866414</td>\n",
       "      <td>34498</td>\n",
       "      <td>447232</td>\n",
       "      <td>708814</td>\n",
       "      <td>1874382</td>\n",
       "      <td>702255</td>\n",
       "      <td>1067608</td>\n",
       "      <td>5396026</td>\n",
       "      <td>737625</td>\n",
       "      <td>423757</td>\n",
       "      <td>2877087</td>\n",
       "      <td>1050603</td>\n",
       "      <td>69125</td>\n",
       "    </tr>\n",
       "  </tbody>\n",
       "</table>\n",
       "</div>"
      ],
      "text/plain": [
       "department_id      1.0    2.0      3.0      4.0     5.0     6.0      7.0   \\\n",
       "spending_flag                                                               \n",
       "Higher Spender     1230     66      619     5763     462      47     7361   \n",
       "Low spender     2233513  36225  1171809  9473528  153234  269206  2680762   \n",
       "\n",
       "department_id    8.0     9.0    10.0    11.0    12.0     13.0    14.0  \\\n",
       "spending_flag                                                           \n",
       "Higher Spender     55     213     75     340     113      987     778   \n",
       "Low spender     97661  866414  34498  447232  708814  1874382  702255   \n",
       "\n",
       "department_id      15.0     16.0    17.0    18.0     19.0     20.0   21.0  \n",
       "spending_flag                                                              \n",
       "Higher Spender      450     2721    1041      45    10463      646     20  \n",
       "Low spender     1067608  5396026  737625  423757  2877087  1050603  69125  "
      ]
     },
     "execution_count": 55,
     "metadata": {},
     "output_type": "execute_result"
    }
   ],
   "source": [
    "spending_departments"
   ]
  },
  {
   "cell_type": "code",
   "execution_count": 56,
   "id": "5e61eac6",
   "metadata": {},
   "outputs": [],
   "source": [
    "# spending across regions\n",
    "\n",
    "spending_region = pd.crosstab(orders_prods_custs_merge['region'], orders_prods_custs_merge['spending_flag'], dropna = False)"
   ]
  },
  {
   "cell_type": "code",
   "execution_count": 57,
   "id": "f05b15ce",
   "metadata": {},
   "outputs": [
    {
     "data": {
      "text/html": [
       "<div>\n",
       "<style scoped>\n",
       "    .dataframe tbody tr th:only-of-type {\n",
       "        vertical-align: middle;\n",
       "    }\n",
       "\n",
       "    .dataframe tbody tr th {\n",
       "        vertical-align: top;\n",
       "    }\n",
       "\n",
       "    .dataframe thead th {\n",
       "        text-align: right;\n",
       "    }\n",
       "</style>\n",
       "<table border=\"1\" class=\"dataframe\">\n",
       "  <thead>\n",
       "    <tr style=\"text-align: right;\">\n",
       "      <th>spending_flag</th>\n",
       "      <th>Higher Spender</th>\n",
       "      <th>Low spender</th>\n",
       "    </tr>\n",
       "    <tr>\n",
       "      <th>region</th>\n",
       "      <th></th>\n",
       "      <th></th>\n",
       "    </tr>\n",
       "  </thead>\n",
       "  <tbody>\n",
       "    <tr>\n",
       "      <th>Midwest</th>\n",
       "      <td>8090</td>\n",
       "      <td>7589235</td>\n",
       "    </tr>\n",
       "    <tr>\n",
       "      <th>Northeast</th>\n",
       "      <td>5993</td>\n",
       "      <td>5716743</td>\n",
       "    </tr>\n",
       "    <tr>\n",
       "      <th>South</th>\n",
       "      <td>10357</td>\n",
       "      <td>10781528</td>\n",
       "    </tr>\n",
       "    <tr>\n",
       "      <th>West</th>\n",
       "      <td>9055</td>\n",
       "      <td>8283858</td>\n",
       "    </tr>\n",
       "  </tbody>\n",
       "</table>\n",
       "</div>"
      ],
      "text/plain": [
       "spending_flag  Higher Spender  Low spender\n",
       "region                                    \n",
       "Midwest                  8090      7589235\n",
       "Northeast                5993      5716743\n",
       "South                   10357     10781528\n",
       "West                     9055      8283858"
      ]
     },
     "execution_count": 57,
     "metadata": {},
     "output_type": "execute_result"
    }
   ],
   "source": [
    "spending_region"
   ]
  },
  {
   "cell_type": "code",
   "execution_count": 61,
   "id": "416e051d",
   "metadata": {},
   "outputs": [
    {
     "data": {
      "text/plain": [
       "Text(0, 0.5, 'Count of customer per 1 million')"
      ]
     },
     "execution_count": 61,
     "metadata": {},
     "output_type": "execute_result"
    },
    {
     "data": {
      "image/png": "[encoded data removed]",
      "text/plain": [
       "<Figure size 432x288 with 1 Axes>"
      ]
     },
     "metadata": {
      "needs_background": "light"
     },
     "output_type": "display_data"
    }
   ],
   "source": [
    "spending_region_chart = spending_region.plot.bar(stacked = True, title = 'Types of Spenders, by Region')\n",
    "\n",
    "plt.title('Customer Spending Bar Graph')\n",
    "plt.xlabel('Region')\n",
    "plt.ylabel('Count of customer per 1 million')"
   ]
  },
  {
   "cell_type": "code",
   "execution_count": 62,
   "id": "6ea5d5c3",
   "metadata": {},
   "outputs": [],
   "source": [
    "orders_prods_custs_merge.to_pickle(os.path.join(path, '02 Data', 'Prepared Data', '4.10_Part_1.pkl'))"
   ]
  },
  {
   "cell_type": "code",
   "execution_count": null,
   "id": "a403786c",
   "metadata": {},
   "outputs": [],
   "source": []
  }
 ],
 "metadata": {
  "kernelspec": {
   "display_name": "Python 3 (ipykernel)",
   "language": "python",
   "name": "python3"
  },
  "language_info": {
   "codemirror_mode": {
    "name": "ipython",
    "version": 3
   },
   "file_extension": ".py",
   "mimetype": "text/x-python",
   "name": "python",
   "nbconvert_exporter": "python",
   "pygments_lexer": "ipython3",
   "version": "3.9.7"
  }
 },
 "nbformat": 4,
 "nbformat_minor": 5
}
